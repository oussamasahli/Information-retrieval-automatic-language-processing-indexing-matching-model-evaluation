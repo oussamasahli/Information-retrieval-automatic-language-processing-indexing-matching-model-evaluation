{
 "cells": [
  {
   "cell_type": "markdown",
   "metadata": {},
   "source": [
    "# TME 3 - Evaluation"
   ]
  },
  {
   "cell_type": "code",
   "execution_count": 34,
   "metadata": {},
   "outputs": [],
   "source": [
    "import import_ipynb\n",
    "import tme1Indexation as tm\n",
    "import tme2\n",
    "import math\n",
    "import numpy as np\n",
    "import matplotlib.pyplot as plt\n",
    "import scipy.stats\n",
    "from math import gamma, sqrt, pi\n",
    "import seaborn as sns"
   ]
  },
  {
   "cell_type": "markdown",
   "metadata": {},
   "source": [
    "#  Exercice 1 – Exercice de compréhension : calcul des mesures"
   ]
  },
  {
   "cell_type": "markdown",
   "metadata": {},
   "source": [
    "On considère la collection de documents (cisi.txt et cacm.txt) et la liste des stopwords (TextRepresenter.py) du TME1 ainsi que les fonctions d’appariement codées dans l’exercice 1 du TME 2. L’objectif dans cet exercice est de mesurer la qualité de l’ordonnancement. Pour cela, on d´eﬁnit les jugements de pertinence suivant :\n",
    "\n",
    "— Requête 1 ”top sales” - Documents pertinents : 1 \n",
    "\n",
    "— Requête 2 ”sales increase july” - Documents pertinents : 2 et 3 (avec 2 plus pertinent que 3) \n",
    "\n",
    "— Requête 3 ”new home”"
   ]
  },
  {
   "cell_type": "markdown",
   "metadata": {},
   "source": [
    "Q 1.1 Calculer les mesures de précision, rappel et F-mesure au rang 2 (P@2, R@2 et F@2) pour chaque requête et ensuite leur moyenne sur l’ensemble des requêtes."
   ]
  },
  {
   "cell_type": "markdown",
   "metadata": {},
   "source": [
    "#  Enjeux de l’évaluation en RI\n"
   ]
  },
  {
   "cell_type": "markdown",
   "metadata": {},
   "source": [
    "Quel modèle de RI est le plus eﬃcace (dans le tme2 , on en a définit 3 (Vectoriel, Langue, Okapi bm25) )?\n",
    "De nombreuses mesures donnent des renseignements partiels sur le comportement du système.\n",
    "Objectif : évaluer la capacité d’un système à retourner des documents pertinents.\n",
    "Pour faire cette évaluation , on a besoin d'un corpus de document (cisi.txt ou cacm.txt) , de requêtes (requête1 , requête2, requête3) et de jugements de pertinence pour chacune des requêtes (exemple: pour la requête1 , il a été jugé que seul le document1 était pertinent)."
   ]
  },
  {
   "cell_type": "markdown",
   "metadata": {},
   "source": [
    "Comment mesurer l’eﬃcacité d’un système ?\n",
    "Il y a diﬀérents types de mesure :\n",
    "\n",
    "-Rappel/Précision\n",
    "\n",
    "– Orientées rang \n",
    "\n",
    "– Prise en compte des degrés de pertinence"
   ]
  },
  {
   "cell_type": "markdown",
   "metadata": {},
   "source": [
    "Evaluation d’un système:  On calcul ces mesures pour chaque requête , et on fait la moyenne sur chacune des requêtes."
   ]
  },
  {
   "cell_type": "markdown",
   "metadata": {},
   "source": [
    "# Evaluation des differents modèles"
   ]
  },
  {
   "cell_type": "markdown",
   "metadata": {},
   "source": [
    "Je saute cette étape car les modèles que j'ai crée ,utilise un nom de fichier pour créer l'index , alors que la je ne dispose pas de fichier avec les infos dont j'ai besoin pour faire cette question."
   ]
  },
  {
   "cell_type": "markdown",
   "metadata": {},
   "source": [
    "# Exercice 2 – Projet ”Moteur de Recherche” : Etape Evaluation\n"
   ]
  },
  {
   "cell_type": "markdown",
   "metadata": {},
   "source": [
    "# 1 Chargement du jeu de données"
   ]
  },
  {
   "cell_type": "markdown",
   "metadata": {},
   "source": [
    "Q 2.1 Construire une classe Query qui permet de stocker l’identiﬁant de la requête, son texte et la liste des identiﬁants des documents pertinents."
   ]
  },
  {
   "cell_type": "code",
   "execution_count": 2,
   "metadata": {},
   "outputs": [],
   "source": [
    "class Query():\n",
    "    \n",
    "    def __init__(self,idquery,texte,docsPertinents):\n",
    "        self.idquery=idquery\n",
    "        self.texte=texte\n",
    "        self.docsPertinents=docsPertinents\n",
    "        \n",
    "    def getId(self):\n",
    "        return self.idquery\n",
    "    \n",
    "    def getText(self):\n",
    "        return self.texte\n",
    "    \n",
    "    def getDocs(self):\n",
    "        return self.docsPertinents"
   ]
  },
  {
   "cell_type": "markdown",
   "metadata": {},
   "source": [
    "Q 2.2 Construire une classe QueryParser permettant de lire les ﬁchiers de tests de requêtes et de jugements de pertinence qui retourne une collection de Query."
   ]
  },
  {
   "cell_type": "markdown",
   "metadata": {},
   "source": [
    "La fonction Docs lit un fichier extension rel , et retourne un Dictionnaire dont la clé correspond à l'identifiant de la requête , et la valeur associé est une liste d'id de documents pertinent pour cette requête"
   ]
  },
  {
   "cell_type": "code",
   "execution_count": 3,
   "metadata": {},
   "outputs": [],
   "source": [
    "def Docs(fic):\n",
    "    D={}\n",
    "    file = open(fic, \"r\")\n",
    "    lines = file.readlines()\n",
    "    file.close()\n",
    "    L=[]\n",
    "    for line in lines:\n",
    "        l=line.strip().split()\n",
    "        if(l[0] not in D):\n",
    "            D[l[0]]=[l[1]]\n",
    "        else:\n",
    "            D[l[0]].append(l[1])\n",
    "    return D"
   ]
  },
  {
   "cell_type": "markdown",
   "metadata": {},
   "source": [
    "La classe QueryParser lit les ﬁchiers de tests de requêtes et de jugements de pertinence d'une collection de documents , et retourne collection d'objet Query.\n",
    "Elle prend en paramètre le nom d'une collection"
   ]
  },
  {
   "cell_type": "code",
   "execution_count": 4,
   "metadata": {},
   "outputs": [],
   "source": [
    "class QueryParser():\n",
    "    \n",
    "    def __init__(self,col): #prend le nom d'une collection en paramètre\n",
    "        self.col=col\n",
    "        \n",
    "    \n",
    "    def CollectQuery(self):\n",
    "        V=[]\n",
    "        A=[]\n",
    "        D=tm.buildDocCollectionSimple(self.col+\"/\"+self.col+\".qry\")\n",
    "       \n",
    "        L=Docs(self.col+\"/\"+self.col+\".rel\")\n",
    "        for c,v in D.items():\n",
    "\n",
    "            idreq=v['.I']\n",
    "            texte=v['.W']\n",
    "            \n",
    "            if( idreq in L):  \n",
    "                docspertinent=L[idreq]\n",
    "                \n",
    "            elif ( str(0)+idreq in L):         #dans le cas où dans le fichier rel ,  l'id de la requete est de la forme \"01\" par exemple\n",
    "                docspertinent=L[str(0)+idreq]\n",
    "            else:\n",
    "                docspertinent=[]\n",
    "\n",
    "            Q=Query(idreq,texte,docspertinent)\n",
    "            V.append(Q)\n",
    "            A.append((idreq,texte,docspertinent))  # j'utilise A pour voir à quoi ressemble le résultat retourné\n",
    "        return V,A"
   ]
  },
  {
   "cell_type": "code",
   "execution_count": 5,
   "metadata": {},
   "outputs": [],
   "source": [
    "C=QueryParser(\"cacm\")\n",
    "T,A=C.CollectQuery()"
   ]
  },
  {
   "cell_type": "markdown",
   "metadata": {},
   "source": [
    "# 2) Métrique"
   ]
  },
  {
   "cell_type": "markdown",
   "metadata": {},
   "source": [
    "On souhaite maintenant implémenter les mesures d’évaluation (à minima, P@k, R@k, AP, NDCG pour chaque requête)."
   ]
  },
  {
   "cell_type": "markdown",
   "metadata": {},
   "source": [
    "Q 2.3 Créer une classe abstraite EvalMesure qui contient une méthode abstraite evalQuery(liste,query) permettant de calculer la mesure pour la liste des documents retournés par un modèle et un objet Query."
   ]
  },
  {
   "cell_type": "markdown",
   "metadata": {},
   "source": [
    "Les moteurs de recherche renvoient en général des listes ordonnées : l’idéal est de retourner les documents en tête de liste."
   ]
  },
  {
   "cell_type": "code",
   "execution_count": 6,
   "metadata": {},
   "outputs": [],
   "source": [
    "class EvalMesure():\n",
    "    \n",
    "    #def __init__(self): \n",
    "                \n",
    "    def evalQuery(liste,query):\n",
    "        raise NotImplementedError\n",
    "    "
   ]
  },
  {
   "cell_type": "markdown",
   "metadata": {},
   "source": [
    "Test:"
   ]
  },
  {
   "cell_type": "code",
   "execution_count": 136,
   "metadata": {},
   "outputs": [],
   "source": [
    "C=QueryParser(\"cacm\")\n",
    "T,A=C.CollectQuery()\n",
    "query=T[0] #je prend le premier objet Query (la première requête)\n",
    "req=query.getText()"
   ]
  },
  {
   "cell_type": "code",
   "execution_count": 140,
   "metadata": {},
   "outputs": [],
   "source": [
    "w=tme2.Weighter4(\"cacm/cacm.txt\") #je construit un weighter (chaque weigther à sa façon de représenter les vecteurs poids des documents et de la requête)\n",
    "V=tme2.Vectoriel(w,False) # J'utilise le modèle Vectoriel pour retourner les documents en rapport avec la requête\n",
    "Scores=V.getRanking(req) # Je récupere les documents en rapport avec la requête, dans leur ordre d'importance"
   ]
  },
  {
   "cell_type": "markdown",
   "metadata": {},
   "source": [
    "La fontion get ranking retourne une liste de tuple (id_document,score). Pour évaluer les mesures , je n'ai besoin que de l'id des documents. La fonction toListId() va faire cela."
   ]
  },
  {
   "cell_type": "code",
   "execution_count": 6,
   "metadata": {},
   "outputs": [],
   "source": [
    "def toListId(D):\n",
    "    L=[]\n",
    "    for t in D:\n",
    "        L.append(t[0])\n",
    "    return L"
   ]
  },
  {
   "cell_type": "code",
   "execution_count": 216,
   "metadata": {},
   "outputs": [],
   "source": [
    "docs=toListId(Scores) # L'ordre d'importance des documents est préservé"
   ]
  },
  {
   "cell_type": "markdown",
   "metadata": {},
   "source": [
    "2.4 Créer les classes associées à chaque mesure d’évaluation (précision/rappel/f-measure au rang k, précision moyenne, reciprocal rank, ndcg - au minimum); ces classes héritent de la classe abstraite EvalMesure."
   ]
  },
  {
   "cell_type": "markdown",
   "metadata": {},
   "source": [
    "# Precision"
   ]
  },
  {
   "cell_type": "markdown",
   "metadata": {},
   "source": [
    "Précision : est-ce que le système retourne QUE les documents pertinents ?\n",
    "\n",
    "Précision = capacité à ne retrouver QUE des documents pertinents = documents pertinent récupérés / ( documents pertinents récupérés + documents non pertinents récupérés)"
   ]
  },
  {
   "cell_type": "markdown",
   "metadata": {},
   "source": [
    "Précision à k : P@k(q)= 1/k * somme(de i=1 à k) Rdi,q avec Rdi,q ∈{0,1} jugement de pertinence pour le document de rang i renvoyé par le système. "
   ]
  },
  {
   "cell_type": "code",
   "execution_count": 7,
   "metadata": {},
   "outputs": [],
   "source": [
    "class Precision(EvalMesure):\n",
    "    \n",
    "    def __init__(self,k):\n",
    "        self.k=k          #rang auquel on souhaite évaluer la précision du modèle choisit\n",
    "                \n",
    "    def evalQuery(self,liste,query):\n",
    "        L=liste[:self.k]\n",
    "        p=0\n",
    "        j=query.getDocs()\n",
    "        \n",
    "        if(len(j)==0):  # il se peut que pour cette requête aucun document ne soit jugé pertinent.\n",
    "            return 0\n",
    "        \n",
    "        for l in L:\n",
    "            if (l in j ):\n",
    "                p=p+1\n",
    "        if(len(L)==0):\n",
    "            return 0\n",
    "        else:\n",
    "            return p/len(L)\n",
    "            \n",
    "    "
   ]
  },
  {
   "cell_type": "markdown",
   "metadata": {},
   "source": [
    "Remarque: Il faut que le rang k soit au moins aussi grand que le nombre de documents jugés pertinent pour la requête."
   ]
  },
  {
   "cell_type": "code",
   "execution_count": 154,
   "metadata": {},
   "outputs": [],
   "source": [
    "l=len(query.getDocs())\n",
    "P=Precision(l)\n",
    "p=P.evalQuery(docs,query)"
   ]
  },
  {
   "cell_type": "code",
   "execution_count": 156,
   "metadata": {},
   "outputs": [
    {
     "name": "stdout",
     "output_type": "stream",
     "text": [
      "Pour la première requête du fichier cacm.qry de la collection cacm , le modèle Vectoriel retourne  les  5  premiers  documents pertinents à cette requête avec une précision égale à :  0.0\n"
     ]
    }
   ],
   "source": [
    "print(\"Pour la première requête du fichier cacm.qry de la collection cacm , le modèle Vectoriel retourne\",\n",
    "      \" les \",l,\" premiers  documents pertinents à cette requête avec une précision égale à : \", p)"
   ]
  },
  {
   "cell_type": "markdown",
   "metadata": {},
   "source": [
    "Observation: Au vu de la faible précision obtenue (égale à 0) sur l'évaluation de cette requête , il est nécessaire de récupérer plus de documents parmis ceux retournés par la méthode getRanking() du modèle choisit."
   ]
  },
  {
   "cell_type": "code",
   "execution_count": 160,
   "metadata": {},
   "outputs": [
    {
     "name": "stdout",
     "output_type": "stream",
     "text": [
      "La meilleur précison  pour l'évaluation de la première requête du fichier cacm.qry est égale à :  0.0011899095668729176  . Elle est obtenue quand on récupère  85  documents de ceux retourné par la méthode getRanking() du modèle choisit (ici c'est le modèle Vectoriel)\n"
     ]
    },
    {
     "data": {
      "image/png": "[encoded data removed]",
      "text/plain": [
       "<Figure size 432x288 with 1 Axes>"
      ]
     },
     "metadata": {
      "needs_background": "light"
     },
     "output_type": "display_data"
    }
   ],
   "source": [
    "lmin,lmax=len(query.getDocs()),len(Scores)\n",
    "\n",
    "precisions=[] #liste des précisions obtenue en fonctions du nombre k de documents qu'on récupère parmis ceux retournés par le modèle\n",
    "L=[] #nombre de docs recupéres à chaque itération\n",
    "maxx=0\n",
    "i=-1\n",
    "for k in range(lmin,lmax):\n",
    "    P=Precision(k)\n",
    "    p=P.evalQuery(docs,query)\n",
    "    if(p>maxx):\n",
    "        maxx=p\n",
    "        i=k\n",
    "    precisions.append(p)\n",
    "    L.append(k)\n",
    "    \n",
    "plt.plot(L,precisions)\n",
    "print(\"La meilleur précison  pour l'évaluation de la première requête du fichier cacm.qry est égale à : \"\n",
    "      ,p,\" . Elle est obtenue quand on récupère \",i,\" documents de ceux retourné par la méthode getRanking()\",\n",
    "      \"du modèle choisit (ici c'est le modèle Vectoriel)\")"
   ]
  },
  {
   "cell_type": "markdown",
   "metadata": {},
   "source": [
    "La fonction RangOptimal prend en paramètre un minimum , un maximum , une liste de documents , un objet query. Elle retourne le rang i à partir duquel il faut garder les documents retournés par la méthode getRanking du modèle. Ce rang i permettra au modèle d'avoir une meilleure précision sur la requête qu'il évalue."
   ]
  },
  {
   "cell_type": "code",
   "execution_count": 163,
   "metadata": {},
   "outputs": [],
   "source": [
    "def RangOptimal(a,b,d,q):\n",
    "    maxx=0\n",
    "    i=-1\n",
    "    for k in range(a,b):\n",
    "        Pr=Precision(k)\n",
    "        p=Pr.evalQuery(d,q)\n",
    "        if(p>maxx):\n",
    "            maxx=p\n",
    "            i=k\n",
    "    return i"
   ]
  },
  {
   "cell_type": "markdown",
   "metadata": {},
   "source": [
    "On peut aussi voir pour chaque requête du fichier cacm.qry , quelle est le nombre de documents retourné par le modèle , qu'il faut récupérer sur chaque requête pour maximiser la précision."
   ]
  },
  {
   "cell_type": "code",
   "execution_count": 164,
   "metadata": {},
   "outputs": [
    {
     "data": {
      "text/plain": [
       "[<matplotlib.lines.Line2D at 0x1fb0ff240b8>]"
      ]
     },
     "execution_count": 164,
     "metadata": {},
     "output_type": "execute_result"
    },
    {
     "data": {
      "image/png": "[encoded data removed]",
      "text/plain": [
       "<Figure size 432x288 with 1 Axes>"
      ]
     },
     "metadata": {
      "needs_background": "light"
     },
     "output_type": "display_data"
    }
   ],
   "source": [
    "# T a été calculé au dessus , il contient une collection d'objet query , récupérer à partir de la colleciton cacm\n",
    "Nb_Documents=[]  #Pour chaque requête du fichier cacm.qry  , on récupère le nombre de documents qu'on va garder parmis\n",
    "#ceux retourné par la méthode getRanking() du modèle.  Ce nombre de documents sera celui qui maximisera la precison sur la requete qu'on évalue.\n",
    "requetes=[] # les requetes qu'on évalue\n",
    "\n",
    "\n",
    "for q in T:\n",
    "    req=q.getText() # On récupère le texte de l'objet requête\n",
    "    Scores=V.getRanking(req) #On utilise le modèle Vectoriel (V définit précedemment)\n",
    "    docs=toListId(Scores) # On garde que les id des document retournés par le modèle, sans changer l'odre d'importance\n",
    "    lmin,lmax=len(query.getDocs()),len(docs)\n",
    "    k=RangOptimal(lmin,lmax,docs,q)  #on regarde quel est le rang optimal pour avoir une meilleur précison sur cette requête\n",
    "    Nb_Documents.append(k)\n",
    "    requetes.append(int(q.getId()))\n",
    "    \n",
    "plt.plot(requetes,Nb_Documents)"
   ]
  },
  {
   "cell_type": "markdown",
   "metadata": {},
   "source": [
    "On remarque que pour avoir une précison maximale sur chacune de nos requêtes, le nombre de documents que l'on doit récupérer parmis ceux retournés par notre Modele ( ici Vectoriel) , varie selon les requêtes"
   ]
  },
  {
   "cell_type": "markdown",
   "metadata": {},
   "source": [
    "On verra avec la précision moyenne comment régler ce problème"
   ]
  },
  {
   "cell_type": "markdown",
   "metadata": {},
   "source": [
    "On verra par la suite comment récupérer le meilleur modèle qui nous donne la meilleur précision sur l'ensemble des requêtes"
   ]
  },
  {
   "cell_type": "markdown",
   "metadata": {},
   "source": [
    "# Rappel"
   ]
  },
  {
   "cell_type": "markdown",
   "metadata": {},
   "source": [
    "Rappel : est-ce que le système retourne TOUS les documents pertinents ? \n",
    "\n",
    "Rappel = capacité à retrouver TOUS les documents pertinents  = documents pertinent récupérés / ( documents pertinents récupérés + documents pertinents  non récupérés"
   ]
  },
  {
   "cell_type": "markdown",
   "metadata": {},
   "source": [
    "Rappel à k : R@k(q)= 1/|R| * somme(de i=1 à k) Rdi,q avec Rdi,q ∈{0,1} jugement de pertinence pour le document de rang i renvoyé par le système. "
   ]
  },
  {
   "cell_type": "code",
   "execution_count": 8,
   "metadata": {},
   "outputs": [],
   "source": [
    "class Rappel(EvalMesure):\n",
    "    \n",
    "    def __init__(self,k):\n",
    "        self.k=k          # rang auquel on souhaite évaluer la précision du modèle choisit, Pour améliorer la mesure de rappel\n",
    "                          # sur une requête il est préférable de garder tous les documents retourné par le modèle , \n",
    "                        #car contrairement à la précision, cette mesure s'intéresse au fait que \"TOUS\" \n",
    "                        #les documents jugé pertinent ont été retourné et non \"QUE\" ceux qui ont été jugé\n",
    "                        #pertinent parmis ceux retourné \n",
    "                \n",
    "    def evalQuery(self,liste,query):\n",
    "        L=liste[:self.k]\n",
    "        p=0\n",
    "        j=query.getDocs()\n",
    "        for l in L:\n",
    "            if (l in j ):\n",
    "                p=p+1\n",
    "        \n",
    "        if(len(j)!=0) :       \n",
    "            return p/len(j)\n",
    "        else:\n",
    "            return 0  # il se peut que pour une reqête , aucun documents de la collection ne soit jugé pertinents\n",
    "            \n",
    "    "
   ]
  },
  {
   "cell_type": "markdown",
   "metadata": {},
   "source": [
    "# Courbe rappel/precision"
   ]
  },
  {
   "cell_type": "code",
   "execution_count": 427,
   "metadata": {},
   "outputs": [],
   "source": [
    "col=QueryParser(\"cacm\")\n",
    "A,B=col.CollectQuery()"
   ]
  },
  {
   "cell_type": "code",
   "execution_count": 428,
   "metadata": {},
   "outputs": [],
   "source": [
    "query=A[0] #je prend le premier objet Query (la première requête)\n",
    "req=query.getText()"
   ]
  },
  {
   "cell_type": "code",
   "execution_count": 429,
   "metadata": {},
   "outputs": [],
   "source": [
    "w=tme2.Weighter1(\"cacm/cacm.txt\") \n",
    "V=tme2.Vectoriel(w,False) \n",
    "Scores=V.getRanking(req) "
   ]
  },
  {
   "cell_type": "markdown",
   "metadata": {},
   "source": [
    "La fonction Remove0 supprimer les documents retournés par le modèle dont le score est 0. "
   ]
  },
  {
   "cell_type": "code",
   "execution_count": 9,
   "metadata": {},
   "outputs": [],
   "source": [
    "def Remove0(D):\n",
    "    L=[]\n",
    "    for t in D:\n",
    "        if(t[1] != 0):\n",
    "            L.append(t[0])\n",
    "    return L"
   ]
  },
  {
   "cell_type": "code",
   "execution_count": 434,
   "metadata": {},
   "outputs": [],
   "source": [
    "S=Remove0(Scores)"
   ]
  },
  {
   "cell_type": "code",
   "execution_count": 440,
   "metadata": {},
   "outputs": [],
   "source": [
    "precisions=[]\n",
    "rappels=[]\n",
    "\n",
    "for k in range (1,len(S)):\n",
    "    Pr=Precision(k)\n",
    "    p=Pr.evalQuery(S,query)\n",
    "    Ra=Rappel(len(S))\n",
    "    r=Ra.evalQuery(S,query)\n",
    "    precisions.append(p)\n",
    "    rappels.append(r)"
   ]
  },
  {
   "cell_type": "markdown",
   "metadata": {},
   "source": [
    "On observe la valeur du rappel par rapport à la valeur de la précision. Pour faire ces mesure , on a évalué la premiere requête de la collection cacm , avec le modele Vectoriel ( qui utilisait weighter1pour calculer les poids de chaque documents)"
   ]
  },
  {
   "cell_type": "code",
   "execution_count": 443,
   "metadata": {},
   "outputs": [
    {
     "data": {
      "image/png": "[encoded data removed]",
      "text/plain": [
       "<Figure size 432x288 with 1 Axes>"
      ]
     },
     "metadata": {
      "needs_background": "light"
     },
     "output_type": "display_data"
    }
   ],
   "source": [
    "plt.plot(rappels,precisions)\n",
    "plt.suptitle('Precision vs Rappel')\n",
    "plt.xlabel('Rappel')\n",
    "plt.ylabel('Precision')\n",
    "plt.show()"
   ]
  },
  {
   "cell_type": "markdown",
   "metadata": {},
   "source": [
    "(Le pic du début est du au fait que parmis les premiers documents retournés par le modèle on en a retrouvé quelque uns de pertinents).\n",
    "\n",
    "Observation:\n",
    "\n",
    "Il est facile de faire du rappel car il suffit de sélectionner toute la collection. Mais si on fait ça ,la précision sera très faible. Une précision très élevée a pour conséquence un  rappel très faible. De même , obtenir un rappel élevé a pour conséquence d'avoir  une précision faible. L'objectif serait d'avoir pour une précision élevée un rappel élevé (idéal, mais difficile)."
   ]
  },
  {
   "cell_type": "markdown",
   "metadata": {},
   "source": [
    "# Précision moyenne "
   ]
  },
  {
   "cell_type": "markdown",
   "metadata": {},
   "source": [
    "On souhaite souvent avoir une valeur unique. La précision moyenne (AvgP) est la moyenne des valeurs de précision des documents pertinents par rapport à la requête."
   ]
  },
  {
   "cell_type": "markdown",
   "metadata": {},
   "source": [
    "Exemple:\n",
    "\n",
    "Je récupère la première requête du fichier \"cacm.qry\" de la colleciton cacm. Je construit un modèle Vectoriel. J'utilise le modèle Vectoriel pour calculer le score de chaque document de la collection \"cacm\" pour cette requête. \n",
    "Je parcours la liste des documents retournés par le modèle , et à chaque apparition d'un document pertinent , je calcule la précison. Je fais la moyenne de toute les précisions obtenue (somme des précisions calculé à chaque apparition d'un document pertinent / nombre de documents pertinents)."
   ]
  },
  {
   "cell_type": "markdown",
   "metadata": {},
   "source": [
    "AvgP(q)= 1/nq+ * somme(de k=1 à N(nombre total de documents retourné par le modèle)) Rdk,q x P@k(q)  avec Rdk,q ∈{0,1} jugement de pertinence pour le document de rang k renvoyé par le modèle. "
   ]
  },
  {
   "cell_type": "code",
   "execution_count": 444,
   "metadata": {},
   "outputs": [],
   "source": [
    "col=QueryParser(\"cacm\")\n",
    "A,B=col.CollectQuery()\n",
    "query=A[0] #je prend le premier objet Query (la première requête)\n",
    "req=query.getText()\n",
    "w=tme2.Weighter1(\"cacm/cacm.txt\") \n",
    "V=tme2.Vectoriel(w,False) \n",
    "Scores=V.getRanking(req) "
   ]
  },
  {
   "cell_type": "code",
   "execution_count": 449,
   "metadata": {},
   "outputs": [],
   "source": [
    "S=Remove0(Scores)"
   ]
  },
  {
   "cell_type": "code",
   "execution_count": 10,
   "metadata": {},
   "outputs": [],
   "source": [
    "class AvgP(EvalMesure):\n",
    "    \n",
    "    #def __init__(self):\n",
    "                 \n",
    "                \n",
    "    def evalQuery(self,liste,query):\n",
    "        j=query.getDocs()  # liste des documents pertinent pour la reqête\n",
    "        s=0 # je vais sommer les précisions calculés\n",
    "        k=1 #pour enregister le rang\n",
    "        \n",
    "        if(len(j)==0):\n",
    "            return 0    #il se peut que une requête , aucun documents ne soit jugé pertinents\n",
    "        \n",
    "        for d in liste:\n",
    "            if (d in j):            # je tombe sur un document pertinent , alors je calcule la precision\n",
    "                Pr=Precision(k)\n",
    "                p=Pr.evalQuery(liste,query)\n",
    "                s=s+p\n",
    "            k=k+1\n",
    "            \n",
    "        return s/len(j)\n",
    "        "
   ]
  },
  {
   "cell_type": "code",
   "execution_count": 467,
   "metadata": {},
   "outputs": [],
   "source": [
    "Pm=AvgP()\n",
    "moy=Pm.evalQuery(S,query)"
   ]
  },
  {
   "cell_type": "code",
   "execution_count": 468,
   "metadata": {},
   "outputs": [
    {
     "name": "stdout",
     "output_type": "stream",
     "text": [
      "la précision moyenne évalué pour la premiere requête de la collection cacm est égale à  0.052331432170021196\n"
     ]
    }
   ],
   "source": [
    "print(\"la précision moyenne évalué pour la premiere requête de la collection cacm est égale à \",moy)"
   ]
  },
  {
   "cell_type": "markdown",
   "metadata": {},
   "source": [
    "# Moyenne des Moyennes"
   ]
  },
  {
   "cell_type": "markdown",
   "metadata": {},
   "source": [
    "La moyenne des précisions moyennes (MAP) est la moyenne des AvgP sur l’ensemble des requêtes : \n",
    "\n",
    "MAP= 1/|Q|* somme (de q=1 à q=|Q|)AvgP(q)   où Q est le nombre de requête\n"
   ]
  },
  {
   "cell_type": "code",
   "execution_count": 11,
   "metadata": {},
   "outputs": [],
   "source": [
    "class MAP():\n",
    "    \n",
    "    #def __init__(self):\n",
    "                 \n",
    "                \n",
    "    def evalQuery(self,model,Ensquery):  # elle prend un ensemble d'objet query , et pas un seul\n",
    "        s=0\n",
    "        Pm=AvgP()\n",
    "        \n",
    "        for q in Ensquery:\n",
    "            scores=model.getRanking(q.getText())\n",
    "            liste=Remove0(scores)\n",
    "            s=s+Pm.evalQuery(liste,q) # pour l'ensemble des requetes de la collection , on calule leur moyenne de précision\n",
    "            \n",
    "        return s/len(Ensquery)  # On retourne la moyenne des précisions moyennes sur l'ensemble des requêtes"
   ]
  },
  {
   "cell_type": "code",
   "execution_count": 470,
   "metadata": {},
   "outputs": [],
   "source": [
    "M=MAP()\n",
    "#m=M.evalQuery(V,A)"
   ]
  },
  {
   "cell_type": "code",
   "execution_count": 477,
   "metadata": {},
   "outputs": [
    {
     "name": "stdout",
     "output_type": "stream",
     "text": [
      "la moyenne des précisions moyennes sur l'ensemble des requêtes de la collection cacm , évalué  à partir du modèle vectoriel , est égale à : 0.0035208927253466676\n"
     ]
    }
   ],
   "source": [
    "print(\"la moyenne des précisions moyennes sur l'ensemble des requêtes de la collection cacm , évalué \",\n",
    "      \"à partir du modèle vectoriel , est égale à :\",m)"
   ]
  },
  {
   "cell_type": "markdown",
   "metadata": {},
   "source": [
    "# Autres mesures de moyennes "
   ]
  },
  {
   "cell_type": "markdown",
   "metadata": {},
   "source": [
    "# F-Mesure "
   ]
  },
  {
   "cell_type": "markdown",
   "metadata": {},
   "source": [
    "Mesure tenant compte à la fois du rappel et de la précision. Elle est  introduite par van Rijbergen en 1979.\n",
    "Elle tient compte du poids accordé à la précision vis-à-vis du rappel"
   ]
  },
  {
   "cell_type": "code",
   "execution_count": 12,
   "metadata": {},
   "outputs": [],
   "source": [
    "class FMesure(EvalMesure):\n",
    "    \n",
    "    def __init__(self,B,k):  # je calcule la F-mesure pour un certain rang k\n",
    "        self.B=B\n",
    "        self.k=k\n",
    "                \n",
    "    def evalQuery(self,liste,query):\n",
    "        j=query.getDocs()  # liste des documents pertinent pour la reqête\n",
    "                \n",
    "        if(len(j)==0):\n",
    "            return 0    #il se peut que une requête , aucun documents ne soit jugé pertinents\n",
    "        \n",
    "        Pr=Precision(self.k)\n",
    "        p=Pr.evalQuery(liste,query)\n",
    "        Ra=Rappel(self.k)\n",
    "        r=Ra.evalQuery(liste,query)\n",
    "        \n",
    "        if( ( (self.B*self.B)*p+r ) ==0):\n",
    "            return 0\n",
    "        \n",
    "        return ((1+self.B*self.B) *p*r )/((self.B*self.B)*p+r)"
   ]
  },
  {
   "cell_type": "code",
   "execution_count": 484,
   "metadata": {},
   "outputs": [],
   "source": [
    "k=int(len(S)/2)\n",
    "F=FMesure(1,k)\n",
    "m=F.evalQuery(S,query)"
   ]
  },
  {
   "cell_type": "code",
   "execution_count": 485,
   "metadata": {},
   "outputs": [
    {
     "name": "stdout",
     "output_type": "stream",
     "text": [
      "La fmesure pour la premiere requete , évalué à partir des  928  premiers document retournés par le   modèle est égale à  0.010718113612004289\n"
     ]
    }
   ],
   "source": [
    "print(\"La fmesure pour la premiere requete , évalué à partir des \",k,\" premiers document retournés par le \",\n",
    "     \" modèle est égale à \",m)"
   ]
  },
  {
   "cell_type": "markdown",
   "metadata": {},
   "source": [
    "– β = 1: même poids précision et recall \n",
    "\n",
    "- β > 1: préviligie la précision au rappel\n",
    "\n",
    "– β < 1: plus d’importance au rappel. "
   ]
  },
  {
   "cell_type": "markdown",
   "metadata": {},
   "source": [
    "# Normalized Discounted Cumulatige Gain  (NDCG)"
   ]
  },
  {
   "cell_type": "markdown",
   "metadata": {},
   "source": [
    "# DCG"
   ]
  },
  {
   "cell_type": "markdown",
   "metadata": {},
   "source": [
    "Le principe du DCG est que les documents très pertinents apparaissant plus bas dans une liste de résultats de recherche doivent être pénalisés car la valeur de pertinence classée est réduite logarithmiquement proportionnellement à la position du résultat.\n",
    "\n",
    "La formule traditionnelle du DCG accumulé à un rang particulier k pest défini comme:\n",
    "\n",
    "DCGp =rel1 + somme (i=2 à k)  reli / log2(i)"
   ]
  },
  {
   "cell_type": "markdown",
   "metadata": {},
   "source": [
    "# NDCG"
   ]
  },
  {
   "cell_type": "markdown",
   "metadata": {},
   "source": [
    "Les listes de résultats de recherche varient en longueur selon la requête . La comparaison des performances d'un moteur de recherche d'une requête à la suivante ne peut pas être réalisée de manière cohérente en utilisant DCG seul, de sorte que le gain cumulé à chaque position pour une valeur choisie de k doit être normalisé entre les requêtes. Cela se fait en triant tous les documents pertinents dans le corpus par leur pertinence relative, produisant le DCG maximum possible par position k, également appelé Ideal DCG (IDCG) dans cette position. Pour une requête, le gain cumulé actualisé normalisé , ou nDCG, est calculé comme suit:\n",
    "\n",
    "nDCGk = DCGk / IDCGk"
   ]
  },
  {
   "cell_type": "code",
   "execution_count": 13,
   "metadata": {},
   "outputs": [],
   "source": [
    "class NDCG(EvalMesure):\n",
    "    \n",
    "    def __init__(self,k):  # je calcule le NDCG pour un certain rang k\n",
    "        self.k=k\n",
    "        \n",
    "    def DCG(self,liste,query):\n",
    "        j=query.getDocs()     #je récupère les documents jugés pertinents pourla requête\n",
    "        liste=liste[:self.k]  # je garde les k premiers documents retourné par le modèle\n",
    "        L=[]                # je stocke la pertinence de chaque documents retourné par le modèles\n",
    "        \n",
    "        for d in liste:\n",
    "            if(d in j):\n",
    "                L.append(1)  #si le document retourné par le modèle fait partit des documents pertinent, alors sa pertinence vaut 1\n",
    "            else:\n",
    "                L.append(0) # sinon la pertinence du document vaut 0\n",
    "            \n",
    "        if(len(L)==0):\n",
    "            return 0\n",
    "                \n",
    "        somme=L[0]   \n",
    "        for i in range (1,len(L)):\n",
    "            somme=somme + (L[i]/np.log2(i+1))  #on applique la formule du DCG\n",
    "        \n",
    "        return somme\n",
    "    \n",
    "    \n",
    "    def IDCG(self,liste,query):\n",
    "        j=query.getDocs()     \n",
    "        liste=liste[:self.k]  \n",
    "        L=[]              \n",
    "        \n",
    "        for d in liste:\n",
    "            if(d in j):\n",
    "                L.append(1)  #si le document retourné par le modèle fait partit des documents pertinent, alors sa pertinence vaut 1\n",
    "            else:\n",
    "                L.append(0) # sinon la pertinence du document vaut 0\n",
    "                \n",
    "        if(len(L)==0):\n",
    "            return 0 \n",
    "        \n",
    "        L=sorted(L,reverse=True)  # On trie tous les documents  dans le corpus par leur pertinence relative\n",
    "        somme=L[0]   \n",
    "        for i in range (1,len(L)):\n",
    "            somme=somme + (L[i]/np.log2(i+1))  #on applique la formule du DCG\n",
    "        \n",
    "        return somme\n",
    "                           \n",
    "    \n",
    "                \n",
    "    def evalQuery(self,liste,query):\n",
    "        \n",
    "        d=self.IDCG(liste,query)\n",
    "        if(d==0):\n",
    "            return 0\n",
    "        \n",
    "        ndcg=self.DCG(liste,query)/d\n",
    "        \n",
    "        return ndcg\n",
    "        "
   ]
  },
  {
   "cell_type": "code",
   "execution_count": 22,
   "metadata": {},
   "outputs": [],
   "source": [
    "col=QueryParser(\"cacm\")\n",
    "A,B=col.CollectQuery()\n",
    "query=A[0] #je prend le premier objet Query (la première requête)\n",
    "req=query.getText()\n",
    "w=tme2.Weighter1(\"cacm/cacm.txt\") \n",
    "V=tme2.Vectoriel(w,False) \n",
    "Scores=V.getRanking(req) "
   ]
  },
  {
   "cell_type": "code",
   "execution_count": 23,
   "metadata": {},
   "outputs": [],
   "source": [
    "S=Remove0(Scores)"
   ]
  },
  {
   "cell_type": "code",
   "execution_count": 25,
   "metadata": {},
   "outputs": [],
   "source": [
    "N=NDCG(len(S))\n",
    "ndcg=N.evalQuery(S,query)"
   ]
  },
  {
   "cell_type": "code",
   "execution_count": 26,
   "metadata": {},
   "outputs": [
    {
     "name": "stdout",
     "output_type": "stream",
     "text": [
      "Le Gain cumulatif actualisé normalisé (NDCG) est égale à :  0.26465476528663257  , pour la première requete de la  collection cacm évalué à partir du modèle Vectoriel et au rang :  1857\n"
     ]
    }
   ],
   "source": [
    "print(\"Le Gain cumulatif actualisé normalisé (NDCG) est égale à : \",ndcg,\" , pour la première requete de la \",\n",
    "     \"collection cacm évalué à partir du modèle Vectoriel et au rang : \",len(S))"
   ]
  },
  {
   "cell_type": "markdown",
   "metadata": {},
   "source": [
    "# 3 Plateforme d’´evaluation\n"
   ]
  },
  {
   "cell_type": "markdown",
   "metadata": {},
   "source": [
    "Q 2.5 \n",
    "Déﬁnir une classe EvalIRModel permettant l’évaluation de diﬀ´erents modèles de recherche sur un ensemble de requêtes selon diﬀérentes mesures d’évaluation. Les résultats devront être résumés pour l’ensemble des requêtes considérées en présentant la moyenne et l’écart-type pour chaque modèle.\n"
   ]
  },
  {
   "cell_type": "markdown",
   "metadata": {},
   "source": [
    "On dispose de trois modèle:\n",
    "\n",
    "- Le modèle Vectoriel .\n",
    "\n",
    "- Le modèle de Langue.\n",
    "\n",
    "- Le modèle Okapi BM-25\n"
   ]
  },
  {
   "cell_type": "markdown",
   "metadata": {},
   "source": [
    "Pour chacun de ces modèles , On va considérer les deux collections : cisi et cacm. Chacune de ces deux collections conctient un fichier .qry contenant un ensemble de reqêtes. Pour le modèle considéré et la collection de documents considérée, on va calculer le score de chacun des documents de la collections. A partir de ces scores , on va appliqué les mesures définit ci dessus. \n",
    "\n",
    "Protocole: \n",
    "\n",
    "- Choisir un modèle de RI.\n",
    "- Choisir une collection de documents.\n",
    "- Récuperer l'ensemmble des requêtes.\n",
    "- Choisir une mesure à appliquer.\n",
    "- Appliquer la mesure sur chacune des requêtes à évaluer\n",
    "- faire la moyenne des resultats obtenues sur chacune des requête.\n",
    "- Ainsi on obtient le résultat de la mesure considérer pour l'ensemble des requêtes évalué par notre modèle.\n",
    "- Calculer aussi l'écart type sur l'ensemble des résultats de la mesure."
   ]
  },
  {
   "cell_type": "markdown",
   "metadata": {},
   "source": [
    "# TEST MODELE VECTORIEL"
   ]
  },
  {
   "cell_type": "markdown",
   "metadata": {},
   "source": [
    "Le modèle Vectoriel possède 5 possibilité différentes ( 5 weighter définit) de définir le vecteur poids des documents et de la requête considéré. Ainsi Il faudra définir le modèle Vectoriel sur chacun des weighter (afin d'observer les différents résultats obtenues en fonction du weighter utilisé pour définir le modèle vectoriel).\n",
    "\n",
    "\n",
    "Ca veut dire que par exemple Vectoriel(weighter1,false) et Vectoriel(weighter2,false) sont deux modèles différents.\n",
    "Tout comme Vectoriel(w,True) et Vectoriel(w,False) , pour un weighter quelconque ,dans l'un on utilise le score cosinus et dans l'autre le produit scalire."
   ]
  },
  {
   "cell_type": "markdown",
   "metadata": {},
   "source": [
    "# Test Numéro 1"
   ]
  },
  {
   "cell_type": "markdown",
   "metadata": {},
   "source": [
    "Mon but ici est d'identifier quel est le meilleur modèle vectoriel à considérer sur chacune des mesures.\n",
    "Pour les 10 modèles différents, on test à chaque fois 5 mesures différentes"
   ]
  },
  {
   "cell_type": "markdown",
   "metadata": {},
   "source": [
    "Dans la classe EvalIRModel , j'ai fait une fonction asscoié à chaque mesure"
   ]
  },
  {
   "cell_type": "code",
   "execution_count": 54,
   "metadata": {},
   "outputs": [],
   "source": [
    "class EvalIRModel():\n",
    "    \n",
    "    #cette fonction retourne la moyenne et l'écart_type des mesures\n",
    "    #de précisions calculés sur l'ensemble des requêtes de la collection \"col\" à partir du modèle \"model\"\n",
    "    \n",
    "    def evalPrecision(self,model,col):  \n",
    "        resultats=[]\n",
    "        for query in col:\n",
    "            texte=query.getText()\n",
    "            scores=model.getRanking(texte)\n",
    "            s=Remove0(scores)\n",
    "            Pr=Precision(len(s)) # j'evalue la precision au rang len(s) \n",
    "            p=Pr.evalQuery(s,query)\n",
    "            resultats.append(p)\n",
    "        \n",
    "        return np.mean(resultats),math.sqrt(np.var(resultats))\n",
    "    \n",
    "    \n",
    "    #cette fonction retourne la moyenne et l'écart_type des mesures de rappel calculés\n",
    "    #sur l'ensemble des requêtes de la collection \"col\" à partir du modèle \"model\"\n",
    "     \n",
    "    def evalRappel(self,model,col):  \n",
    "        resultats=[]\n",
    "        for query in col:\n",
    "            texte=query.getText()\n",
    "            scores=model.getRanking(texte)\n",
    "            s=Remove0(scores)\n",
    "            Ra=Rappel(len(s)) # j'evalue la precision au rang len(s) \n",
    "            r=Ra.evalQuery(s,query)\n",
    "            resultats.append(r)\n",
    "        \n",
    "        return np.mean(resultats),math.sqrt(np.var(resultats))\n",
    "    \n",
    "    \n",
    "    #cette fonction retourne la moyenne et l'écart_type des mesures de précisions moyennes calculés sur \n",
    "    #l'ensemble des requêtes de la collection \"col\" à partir du modèle \"model\"\n",
    "    \n",
    "    def evalAvgP(self,model,col):  \n",
    "        resultats=[]\n",
    "        for query in col:\n",
    "            texte=query.getText()\n",
    "            scores=model.getRanking(texte)\n",
    "            s=Remove0(scores)\n",
    "            P=AvgP() \n",
    "            m=P.evalQuery(s,query)\n",
    "            resultats.append(m)\n",
    "        \n",
    "        return np.mean(resultats),math.sqrt(np.var(resultats))\n",
    "    \n",
    "    \n",
    "     #cette fonction retourne la moyenne et l'écart_type des mesures des moyennes de précisions\n",
    "     #moyennes calculés sur l'ensemble des requêtes de la collection \"col\" à partir du modèle \"model\"\n",
    "     \n",
    "    def evalMAP(self,model,col): \n",
    "        resultats=[]\n",
    "    \n",
    "        M=MAP()  \n",
    "        m=M.evalQuery(model,col)\n",
    "        resultats.append(m)\n",
    "        \n",
    "        return np.mean(resultats),math.sqrt(np.var(resultats))\n",
    "    \n",
    "    \n",
    "     #cette fonction retourne la moyenne et l'écart_type des mesures des Fmesures calculés sur \n",
    "     #l'ensemble des requêtes de la collection \"col\" à partir du modèle \"model\"\n",
    "        \n",
    "    def evalFMesure(self,model,col,B):  \n",
    "        resultats=[]\n",
    "        for query in col:\n",
    "            texte=query.getText()\n",
    "            scores=model.getRanking(texte)\n",
    "            s=Remove0(scores)\n",
    "            F=FMesure(B,len(s))     # on évalue la Fmesure au rang len(s) ; pour un B>1 on privilégie \n",
    "                                    #la précison au rappel et inversement\n",
    "            f=F.evalQuery(s,query)\n",
    "            resultats.append(f)\n",
    "        \n",
    "        return np.mean(resultats),math.sqrt(np.var(resultats))\n",
    "    \n",
    "    #cette fonction retourne la moyenne et l'écart_type des mesures NDCG \n",
    "    #calculés sur l'ensemble des requêtes de la collection \"col\" à partir du modèle \"model\"\n",
    "    \n",
    "    def evalNDCG(self,model,col):  \n",
    "        resultats=[]\n",
    "        for query in col:\n",
    "            texte=query.getText()\n",
    "            scores=model.getRanking(texte)\n",
    "            s=Remove0(scores)\n",
    "            N=NDCG(len(s)) # j'evalue la precision au rang len(s) \n",
    "            n=N.evalQuery(s,query)\n",
    "            resultats.append(n)\n",
    "        \n",
    "        return np.mean(resultats),math.sqrt(np.var(resultats))\n",
    "    \n",
    "    \n",
    "    def student(self,x, df):\n",
    "    #densité de probabilité de la loi de student\n",
    "        r = gamma((df+1)/2)/(sqrt(pi*df)*gamma(df/2))*(1+x*x/df)**(-(df+1)/2)\n",
    "        return r\n",
    "     \n",
    "    def qstudent(self,df, alpha):\n",
    "        #valeur du quantile en fonction de alpha bilatéral et df=deg. de lib.\n",
    "        x = 0\n",
    "        dx = 6/10000\n",
    "        s = 0\n",
    "        while 1-2*s>alpha:\n",
    "            x += dx\n",
    "            s += dx*student(x-dx/2, df)\n",
    "        return x    \n",
    "\n",
    "\n",
    "    def t_test(self,X,Y,A):  #paramètre:  2 échantillions de donnnées issue des mesures de 2 modèles  , et une collection \n",
    "\n",
    "        mx,my=np.mean(X),np.mean(Y)\n",
    "        Vxy= ( sum( pow(X[i]-mx,2) for i in range(0,len(X)) ) + sum( pow(Y[i]-my,2) for i in range(0,len(Y)) ) )/(len(X)+len(Y)-2)\n",
    "        tcalc=(mx-my)/math.sqrt(Vxy/len(A))\n",
    "        df = len(X)+len(Y)-2\n",
    "        alpha=0.05\n",
    "        t=round(self.qstudent(df,alpha),3)\n",
    "\n",
    "        if(abs(tcalc) > t):\n",
    "            print(\"H0 est rejeté à \",alpha*100,\" %\")\n",
    "        else:\n",
    "            print(\"H0 est accepté à \",alpha*100,\" %\")    \n",
    "    \n",
    "    "
   ]
  },
  {
   "cell_type": "code",
   "execution_count": 52,
   "metadata": {},
   "outputs": [],
   "source": [
    "E=EvalIRModel()"
   ]
  },
  {
   "cell_type": "code",
   "execution_count": 16,
   "metadata": {},
   "outputs": [],
   "source": [
    "w1=tme2.Weighter1(\"cacm/cacm.txt\")\n",
    "V1=tme2.Vectoriel(w1,False)"
   ]
  },
  {
   "cell_type": "code",
   "execution_count": 22,
   "metadata": {},
   "outputs": [],
   "source": [
    "col=QueryParser(\"cacm\")\n",
    "A,B=col.CollectQuery()   # les objets query sont contenus dans A"
   ]
  },
  {
   "cell_type": "code",
   "execution_count": 24,
   "metadata": {},
   "outputs": [
    {
     "name": "stderr",
     "output_type": "stream",
     "text": [
      "C:\\ProgramData\\Anaconda3\\lib\\site-packages\\ipykernel_launcher.py:46: RuntimeWarning: invalid value encountered in double_scalars\n"
     ]
    }
   ],
   "source": [
    "# pour chaque mesure utilisé ,  on récupère la  moyenne et l'ecart-type de l'ensemble des résultats obtenue\n",
    "# pour cette mesure sur la collection cacm , en ayant utilisé le modèle V1\n",
    "\n",
    "nm,ne=E.evalNDCG(V1,A)\n",
    "pm,pe=E.evalPrecision(V1,A)\n",
    "rm,re=E.evalRappel(V1,A)\n",
    "mm,me=E.evalAvgP(V1,A)\n",
    "mam,mae=E.evalMAP(V1,A)\n",
    "fm,fe=E.evalFMesure(V1,A,1)\n"
   ]
  },
  {
   "cell_type": "code",
   "execution_count": 25,
   "metadata": {},
   "outputs": [
    {
     "name": "stdout",
     "output_type": "stream",
     "text": [
      "Pour le Modèle Vectoriel  utilisant weighter1 et le produit scalaire (calculé à partir de la colleciton cacm)  on obtient: \n",
      "\n",
      " moyenne de la précision = 0.005677354625449063  /  ecart-type de la précison =  0.0056687163934020495 \n",
      " moyenne du rappel = 0.6095061519317104  /  ecart-type du rappel =  0.3557461634407892 \n",
      " moyenne Avgp = 0.050298134791742125  /  ecart-type AvgP =  0.13381015795737286 \n",
      " moyenne MAP = 0.050298134791742125  /  ecart-type MAP =  0.0 \n",
      " moyenne FMesure = 0.011180934814213183  /  ecart-type FMesure =  0.011062870464342874 \n",
      " moyenne NDCG = nan  /  ecart-type NDCG =  nan \n",
      "\n"
     ]
    }
   ],
   "source": [
    "print(\"Pour le Modèle Vectoriel  utilisant weighter1 et le produit scalaire (calculé à partir de la colleciton cacm)\",\n",
    "      \" on obtient: \\n\\n\",\n",
    "     \"moyenne de la précision =\",pm,\" /  ecart-type de la précison = \",pe,\"\\n\",\n",
    "     \"moyenne du rappel =\",rm,\" /  ecart-type du rappel = \",re,\"\\n\",\n",
    "     \"moyenne Avgp =\",mm,\" /  ecart-type AvgP = \",me,\"\\n\",\n",
    "     \"moyenne MAP =\",mam,\" /  ecart-type MAP = \",mae,\"\\n\",\n",
    "     \"moyenne FMesure =\",fm,\" /  ecart-type FMesure = \",fe,\"\\n\",\n",
    "     \"moyenne NDCG =\",nm,\" /  ecart-type NDCG = \",ne,\"\\n\")"
   ]
  },
  {
   "cell_type": "code",
   "execution_count": 26,
   "metadata": {},
   "outputs": [],
   "source": [
    "V2=tme2.Vectoriel(w1,True) #on utilise le score cosinus et plus le produit scalaire"
   ]
  },
  {
   "cell_type": "code",
   "execution_count": 27,
   "metadata": {},
   "outputs": [
    {
     "name": "stderr",
     "output_type": "stream",
     "text": [
      "C:\\ProgramData\\Anaconda3\\lib\\site-packages\\ipykernel_launcher.py:46: RuntimeWarning: invalid value encountered in double_scalars\n"
     ]
    }
   ],
   "source": [
    "# pour chaque mesure utilisé ,  on récupère la  moyenne et l'ecart-type de l'ensemble des résultats obtenue\n",
    "# pour cette mesure sur la collection cacm , en ayant utilisé le modèle V2\n",
    "\n",
    "pm2,pe2=E.evalPrecision(V2,A)\n",
    "rm2,re2=E.evalRappel(V2,A)\n",
    "mm2,me2=E.evalAvgP(V2,A)\n",
    "mam2,mae2=E.evalMAP(V2,A)\n",
    "fm2,fe2=E.evalFMesure(V2,A,1)\n",
    "nm2,ne2=E.evalNDCG(V2,A)"
   ]
  },
  {
   "cell_type": "code",
   "execution_count": 28,
   "metadata": {},
   "outputs": [
    {
     "name": "stdout",
     "output_type": "stream",
     "text": [
      "Pour le Modèle Vectoriel  utilisant weighter1 et le score Cosinus (calculé à partir de la colleciton cacm)  on obtient: \n",
      "\n",
      " moyenne de la précision = 0.005677354625449063  /  ecart-type de la précison =  0.0056687163934020495 \n",
      " moyenne du rappel = 0.6095061519317104  /  ecart-type du rappel =  0.3557461634407892 \n",
      " moyenne Avgp = 0.12500621111292176  /  ecart-type AvgP =  0.19077592796429546 \n",
      " moyenne MAP = 0.12500621111292173  /  ecart-type MAP =  0.0 \n",
      " moyenne FMesure = 0.011180934814213183  /  ecart-type FMesure =  0.011062870464342874 \n",
      " moyenne NDCG = nan  /  ecart-type NDCG =  nan \n",
      "\n"
     ]
    }
   ],
   "source": [
    "print(\"Pour le Modèle Vectoriel  utilisant weighter1 et le score Cosinus (calculé à partir de la colleciton cacm)\",\n",
    "      \" on obtient: \\n\\n\",\n",
    "     \"moyenne de la précision =\",pm2,\" /  ecart-type de la précison = \",pe2,\"\\n\",\n",
    "     \"moyenne du rappel =\",rm2,\" /  ecart-type du rappel = \",re2,\"\\n\",\n",
    "     \"moyenne Avgp =\",mm2,\" /  ecart-type AvgP = \",me2,\"\\n\",\n",
    "     \"moyenne MAP =\",mam2,\" /  ecart-type MAP = \",mae2,\"\\n\",\n",
    "     \"moyenne FMesure =\",fm2,\" /  ecart-type FMesure = \",fe2,\"\\n\",\n",
    "     \"moyenne NDCG =\",nm2,\" /  ecart-type NDCG = \",ne2,\"\\n\",)"
   ]
  },
  {
   "cell_type": "code",
   "execution_count": 29,
   "metadata": {},
   "outputs": [],
   "source": [
    "w2=tme2.Weighter2(\"cacm/cacm.txt\")\n",
    "V3=tme2.Vectoriel(w2,False)"
   ]
  },
  {
   "cell_type": "code",
   "execution_count": 30,
   "metadata": {},
   "outputs": [
    {
     "name": "stderr",
     "output_type": "stream",
     "text": [
      "C:\\ProgramData\\Anaconda3\\lib\\site-packages\\ipykernel_launcher.py:46: RuntimeWarning: invalid value encountered in double_scalars\n"
     ]
    }
   ],
   "source": [
    "# pour chaque mesure utilisé ,  on récupère la  moyenne et l'ecart-type de l'ensemble des résultats obtenue\n",
    "# pour cette mesure sur la collection cacm , en ayant utilisé le modèle V3\n",
    "\n",
    "pm3,pe3=E.evalPrecision(V3,A)\n",
    "rm3,re3=E.evalRappel(V3,A)\n",
    "mm3,me3=E.evalAvgP(V3,A)\n",
    "mam3,mae3=E.evalMAP(V3,A)\n",
    "fm3,fe3=E.evalFMesure(V3,A,1)\n",
    "nm3,ne3=E.evalNDCG(V3,A)"
   ]
  },
  {
   "cell_type": "code",
   "execution_count": 31,
   "metadata": {},
   "outputs": [
    {
     "name": "stdout",
     "output_type": "stream",
     "text": [
      "Pour le Modèle Vectoriel  utilisant weighter2 et le produit scalaire (calculé à partir de la colleciton cacm)  on obtient: \n",
      "\n",
      " moyenne de la précision = 0.005677354625449063  /  ecart-type de la précison =  0.0056687163934020495 \n",
      " moyenne du rappel = 0.6095061519317104  /  ecart-type du rappel =  0.3557461634407892 \n",
      " moyenne Avgp = 0.05409363361005343  /  ecart-type AvgP =  0.13412290159233264 \n",
      " moyenne MAP = 0.05409363361005343  /  ecart-type MAP =  0.0 \n",
      " moyenne FMesure = 0.011180934814213183  /  ecart-type FMesure =  0.011062870464342874 \n",
      " moyenne NDCG = nan  /  ecart-type NDCG =  nan \n",
      "\n"
     ]
    }
   ],
   "source": [
    "print(\"Pour le Modèle Vectoriel  utilisant weighter2 et le produit scalaire (calculé à partir de la colleciton cacm)\",\n",
    "      \" on obtient: \\n\\n\",\n",
    "     \"moyenne de la précision =\",pm3,\" /  ecart-type de la précison = \",pe3,\"\\n\",\n",
    "     \"moyenne du rappel =\",rm3,\" /  ecart-type du rappel = \",re3,\"\\n\",\n",
    "     \"moyenne Avgp =\",mm3,\" /  ecart-type AvgP = \",me3,\"\\n\",\n",
    "     \"moyenne MAP =\",mam3,\" /  ecart-type MAP = \",mae3,\"\\n\",\n",
    "     \"moyenne FMesure =\",fm3,\" /  ecart-type FMesure = \",fe3,\"\\n\",\n",
    "     \"moyenne NDCG =\",nm3,\" /  ecart-type NDCG = \",ne3,\"\\n\",)"
   ]
  },
  {
   "cell_type": "code",
   "execution_count": 32,
   "metadata": {},
   "outputs": [],
   "source": [
    "V4=tme2.Vectoriel(w2,True)"
   ]
  },
  {
   "cell_type": "code",
   "execution_count": 33,
   "metadata": {},
   "outputs": [
    {
     "name": "stderr",
     "output_type": "stream",
     "text": [
      "C:\\ProgramData\\Anaconda3\\lib\\site-packages\\ipykernel_launcher.py:46: RuntimeWarning: invalid value encountered in double_scalars\n"
     ]
    }
   ],
   "source": [
    "# pour chaque mesure utilisé ,  on récupère la  moyenne et l'ecart-type de l'ensemble des résultats obtenue\n",
    "# pour cette mesure sur la collection cacm , en ayant utilisé le modèle V4\n",
    "\n",
    "pm4,pe4=E.evalPrecision(V4,A)\n",
    "rm4,re4=E.evalRappel(V4,A)\n",
    "mm4,me4=E.evalAvgP(V4,A)\n",
    "mam4,mae4=E.evalMAP(V4,A)\n",
    "fm4,fe4=E.evalFMesure(V4,A,1)\n",
    "nm4,ne4=E.evalNDCG(V4,A)"
   ]
  },
  {
   "cell_type": "code",
   "execution_count": 34,
   "metadata": {},
   "outputs": [
    {
     "name": "stdout",
     "output_type": "stream",
     "text": [
      "Pour le Modèle Vectoriel  utilisant weighter2 et le score cosinus (calculé à partir de la colleciton cacm)  on obtient: \n",
      "\n",
      " moyenne de la précision = 0.005677354625449063  /  ecart-type de la précison =  0.0056687163934020495 \n",
      " moyenne du rappel = 0.6095061519317104  /  ecart-type du rappel =  0.3557461634407892 \n",
      " moyenne Avgp = 0.11560732349087754  /  ecart-type AvgP =  0.16938590783536459 \n",
      " moyenne MAP = 0.11560732349087754  /  ecart-type MAP =  0.0 \n",
      " moyenne FMesure = 0.011180934814213183  /  ecart-type FMesure =  0.011062870464342874 \n",
      " moyenne NDCG = nan  /  ecart-type NDCG =  nan \n",
      "\n"
     ]
    }
   ],
   "source": [
    "print(\"Pour le Modèle Vectoriel  utilisant weighter2 et le score cosinus (calculé à partir de la colleciton cacm)\",\n",
    "      \" on obtient: \\n\\n\",\n",
    "     \"moyenne de la précision =\",pm4,\" /  ecart-type de la précison = \",pe4,\"\\n\",\n",
    "     \"moyenne du rappel =\",rm4,\" /  ecart-type du rappel = \",re4,\"\\n\",\n",
    "     \"moyenne Avgp =\",mm4,\" /  ecart-type AvgP = \",me4,\"\\n\",\n",
    "     \"moyenne MAP =\",mam4,\" /  ecart-type MAP = \",mae4,\"\\n\",\n",
    "     \"moyenne FMesure =\",fm4,\" /  ecart-type FMesure = \",fe4,\"\\n\",\n",
    "     \"moyenne NDCG =\",nm4,\" /  ecart-type NDCG = \",ne4,\"\\n\",)"
   ]
  },
  {
   "cell_type": "code",
   "execution_count": 35,
   "metadata": {},
   "outputs": [],
   "source": [
    "w3=tme2.Weighter3(\"cacm/cacm.txt\")\n",
    "V5=tme2.Vectoriel(w3,False)"
   ]
  },
  {
   "cell_type": "code",
   "execution_count": 36,
   "metadata": {},
   "outputs": [
    {
     "name": "stderr",
     "output_type": "stream",
     "text": [
      "C:\\ProgramData\\Anaconda3\\lib\\site-packages\\ipykernel_launcher.py:46: RuntimeWarning: invalid value encountered in double_scalars\n"
     ]
    }
   ],
   "source": [
    "# pour chaque mesure utilisé ,  on récupère la  moyenne et l'ecart-type de l'ensemble des résultats obtenue\n",
    "# pour cette mesure sur la collection cacm , en ayant utilisé le modèle V5\n",
    "\n",
    "pm5,pe5=E.evalPrecision(V5,A)\n",
    "rm5,re5=E.evalRappel(V5,A)\n",
    "mm5,me5=E.evalAvgP(V5,A)\n",
    "mam5,mae5=E.evalMAP(V5,A)\n",
    "fm5,fe5=E.evalFMesure(V5,A,1)\n",
    "nm5,ne5=E.evalNDCG(V5,A)"
   ]
  },
  {
   "cell_type": "code",
   "execution_count": 37,
   "metadata": {},
   "outputs": [
    {
     "name": "stdout",
     "output_type": "stream",
     "text": [
      "Pour le Modèle Vectoriel  utilisant weighter3 et le produit vectoriel (calculé à partir de la colleciton cacm)  on obtient: \n",
      "\n",
      " moyenne de la précision = 0.005677354625449063  /  ecart-type de la précison =  0.0056687163934020495 \n",
      " moyenne du rappel = 0.6095061519317104  /  ecart-type du rappel =  0.3557461634407892 \n",
      " moyenne Avgp = 0.04766162303283028  /  ecart-type AvgP =  0.13103826689499332 \n",
      " moyenne MAP = 0.047661623032830294  /  ecart-type MAP =  0.0 \n",
      " moyenne FMesure = 0.011180934814213183  /  ecart-type FMesure =  0.011062870464342874 \n",
      " moyenne NDCG = nan  /  ecart-type NDCG =  nan \n",
      "\n"
     ]
    }
   ],
   "source": [
    "print(\"Pour le Modèle Vectoriel  utilisant weighter3 et le produit vectoriel (calculé à partir de la colleciton cacm)\",\n",
    "      \" on obtient: \\n\\n\",\n",
    "     \"moyenne de la précision =\",pm5,\" /  ecart-type de la précison = \",pe5,\"\\n\",\n",
    "     \"moyenne du rappel =\",rm5,\" /  ecart-type du rappel = \",re5,\"\\n\",\n",
    "     \"moyenne Avgp =\",mm5,\" /  ecart-type AvgP = \",me5,\"\\n\",\n",
    "     \"moyenne MAP =\",mam5,\" /  ecart-type MAP = \",mae5,\"\\n\",\n",
    "     \"moyenne FMesure =\",fm5,\" /  ecart-type FMesure = \",fe5,\"\\n\",\n",
    "     \"moyenne NDCG =\",nm5,\" /  ecart-type NDCG = \",ne5,\"\\n\",)"
   ]
  },
  {
   "cell_type": "code",
   "execution_count": 38,
   "metadata": {},
   "outputs": [],
   "source": [
    "V6=tme2.Vectoriel(w3,True)"
   ]
  },
  {
   "cell_type": "code",
   "execution_count": 39,
   "metadata": {},
   "outputs": [
    {
     "name": "stderr",
     "output_type": "stream",
     "text": [
      "C:\\ProgramData\\Anaconda3\\lib\\site-packages\\ipykernel_launcher.py:46: RuntimeWarning: invalid value encountered in double_scalars\n"
     ]
    }
   ],
   "source": [
    "# pour chaque mesure utilisé ,  on récupère la  moyenne et l'ecart-type de l'ensemble des résultats obtenue\n",
    "# pour cette mesure sur la collection cacm , en ayant utilisé le modèle V6\n",
    "\n",
    "pm6,pe6=E.evalPrecision(V6,A)\n",
    "rm6,re6=E.evalRappel(V6,A)\n",
    "mm6,me6=E.evalAvgP(V6,A)\n",
    "mam6,mae6=E.evalMAP(V6,A)\n",
    "fm6,fe6=E.evalFMesure(V6,A,1)\n",
    "nm6,ne6=E.evalNDCG(V6,A)"
   ]
  },
  {
   "cell_type": "code",
   "execution_count": 40,
   "metadata": {},
   "outputs": [
    {
     "name": "stdout",
     "output_type": "stream",
     "text": [
      "Pour le Modèle Vectoriel  utilisant weighter3 et le score cosinus (calculé à partir de la colleciton cacm)  on obtient: \n",
      "\n",
      " moyenne de la précision = 0.005677354625449063  /  ecart-type de la précison =  0.0056687163934020495 \n",
      " moyenne du rappel = 0.6095061519317104  /  ecart-type du rappel =  0.3557461634407892 \n",
      " moyenne Avgp = 0.14120971093443013  /  ecart-type AvgP =  0.19612723736066384 \n",
      " moyenne MAP = 0.14120971093443013  /  ecart-type MAP =  0.0 \n",
      " moyenne FMesure = 0.011180934814213183  /  ecart-type FMesure =  0.011062870464342874 \n",
      " moyenne NDCG = nan  /  ecart-type NDCG =  nan \n",
      "\n"
     ]
    }
   ],
   "source": [
    "print(\"Pour le Modèle Vectoriel  utilisant weighter3 et le score cosinus (calculé à partir de la colleciton cacm)\",\n",
    "      \" on obtient: \\n\\n\",\n",
    "     \"moyenne de la précision =\",pm6,\" /  ecart-type de la précison = \",pe6,\"\\n\",\n",
    "     \"moyenne du rappel =\",rm6,\" /  ecart-type du rappel = \",re6,\"\\n\",\n",
    "     \"moyenne Avgp =\",mm6,\" /  ecart-type AvgP = \",me6,\"\\n\",\n",
    "     \"moyenne MAP =\",mam6,\" /  ecart-type MAP = \",mae6,\"\\n\",\n",
    "     \"moyenne FMesure =\",fm6,\" /  ecart-type FMesure = \",fe6,\"\\n\",\n",
    "     \"moyenne NDCG =\",nm6,\" /  ecart-type NDCG = \",ne6,\"\\n\",)"
   ]
  },
  {
   "cell_type": "code",
   "execution_count": 17,
   "metadata": {},
   "outputs": [],
   "source": [
    "w4=tme2.Weighter4(\"cacm/cacm.txt\")\n",
    "V7=tme2.Vectoriel(w4,False)"
   ]
  },
  {
   "cell_type": "code",
   "execution_count": 42,
   "metadata": {},
   "outputs": [
    {
     "name": "stderr",
     "output_type": "stream",
     "text": [
      "C:\\ProgramData\\Anaconda3\\lib\\site-packages\\ipykernel_launcher.py:46: RuntimeWarning: invalid value encountered in double_scalars\n"
     ]
    }
   ],
   "source": [
    "# pour chaque mesure utilisé ,  on récupère la  moyenne et l'ecart-type de l'ensemble des résultats obtenue\n",
    "# pour cette mesure sur la collection cacm , en ayant utilisé le modèle V7\n",
    "\n",
    "pm7,pe7=E.evalPrecision(V7,A)\n",
    "rm7,re7=E.evalRappel(V7,A)\n",
    "mm7,me7=E.evalAvgP(V7,A)\n",
    "mam7,mae7=E.evalMAP(V7,A)\n",
    "fm7,fe7=E.evalFMesure(V7,A,1)\n",
    "nm7,ne7=E.evalNDCG(V7,A)"
   ]
  },
  {
   "cell_type": "code",
   "execution_count": 43,
   "metadata": {},
   "outputs": [
    {
     "name": "stdout",
     "output_type": "stream",
     "text": [
      "Pour le Modèle Vectoriel  utilisant weighter4 et le produit vectoriel (calculé à partir de la colleciton cacm)  on obtient: \n",
      "\n",
      " moyenne de la précision = 0.005677354625449063  /  ecart-type de la précison =  0.0056687163934020495 \n",
      " moyenne du rappel = 0.6095061519317104  /  ecart-type du rappel =  0.3557461634407892 \n",
      " moyenne Avgp = 0.032426043183932864  /  ecart-type AvgP =  0.06448837302184007 \n",
      " moyenne MAP = 0.032426043183932864  /  ecart-type MAP =  0.0 \n",
      " moyenne FMesure = 0.011180934814213183  /  ecart-type FMesure =  0.011062870464342874 \n",
      " moyenne NDCG = nan  /  ecart-type NDCG =  nan \n",
      "\n"
     ]
    }
   ],
   "source": [
    "print(\"Pour le Modèle Vectoriel  utilisant weighter4 et le produit vectoriel (calculé à partir de la colleciton cacm)\",\n",
    "      \" on obtient: \\n\\n\",\n",
    "     \"moyenne de la précision =\",pm7,\" /  ecart-type de la précison = \",pe7,\"\\n\",\n",
    "     \"moyenne du rappel =\",rm7,\" /  ecart-type du rappel = \",re7,\"\\n\",\n",
    "     \"moyenne Avgp =\",mm7,\" /  ecart-type AvgP = \",me7,\"\\n\",\n",
    "     \"moyenne MAP =\",mam7,\" /  ecart-type MAP = \",mae7,\"\\n\",\n",
    "     \"moyenne FMesure =\",fm7,\" /  ecart-type FMesure = \",fe7,\"\\n\",\n",
    "     \"moyenne NDCG =\",nm7,\" /  ecart-type NDCG = \",ne7,\"\\n\",)"
   ]
  },
  {
   "cell_type": "code",
   "execution_count": 18,
   "metadata": {},
   "outputs": [],
   "source": [
    "V8=tme2.Vectoriel(w4,True)"
   ]
  },
  {
   "cell_type": "code",
   "execution_count": 45,
   "metadata": {},
   "outputs": [
    {
     "name": "stderr",
     "output_type": "stream",
     "text": [
      "C:\\ProgramData\\Anaconda3\\lib\\site-packages\\ipykernel_launcher.py:46: RuntimeWarning: invalid value encountered in double_scalars\n"
     ]
    }
   ],
   "source": [
    "# pour chaque mesure utilisé ,  on récupère la  moyenne et l'ecart-type de l'ensemble des résultats obtenue\n",
    "# pour cette mesure sur la collection cacm , en ayant utilisé le modèle V8\n",
    "\n",
    "pm8,pe8=E.evalPrecision(V8,A)\n",
    "rm8,re8=E.evalRappel(V8,A)\n",
    "mm8,me8=E.evalAvgP(V8,A)\n",
    "mam8,mae8=E.evalMAP(V8,A)\n",
    "fm8,fe8=E.evalFMesure(V8,A,1)\n",
    "nm8,ne8=E.evalNDCG(V8,A)"
   ]
  },
  {
   "cell_type": "code",
   "execution_count": 46,
   "metadata": {},
   "outputs": [
    {
     "name": "stdout",
     "output_type": "stream",
     "text": [
      "Pour le Modèle Vectoriel  utilisant weighter4 et le score cosinus (calculé à partir de la colleciton cacm)  on obtient: \n",
      "\n",
      " moyenne de la précision = 0.005677354625449063  /  ecart-type de la précison =  0.0056687163934020495 \n",
      " moyenne du rappel = 0.6095061519317104  /  ecart-type du rappel =  0.3557461634407892 \n",
      " moyenne Avgp = 0.15373553758793645  /  ecart-type AvgP =  0.1810796876866562 \n",
      " moyenne MAP = 0.15373553758793645  /  ecart-type MAP =  0.0 \n",
      " moyenne FMesure = 0.011180934814213183  /  ecart-type FMesure =  0.011062870464342874 \n",
      " moyenne NDCG = nan  /  ecart-type NDCG =  nan \n",
      "\n"
     ]
    }
   ],
   "source": [
    "print(\"Pour le Modèle Vectoriel  utilisant weighter4 et le score cosinus (calculé à partir de la colleciton cacm)\",\n",
    "      \" on obtient: \\n\\n\",\n",
    "     \"moyenne de la précision =\",pm8,\" /  ecart-type de la précison = \",pe8,\"\\n\",\n",
    "     \"moyenne du rappel =\",rm8,\" /  ecart-type du rappel = \",re8,\"\\n\",\n",
    "     \"moyenne Avgp =\",mm8,\" /  ecart-type AvgP = \",me8,\"\\n\",\n",
    "     \"moyenne MAP =\",mam8,\" /  ecart-type MAP = \",mae8,\"\\n\",\n",
    "     \"moyenne FMesure =\",fm8,\" /  ecart-type FMesure = \",fe8,\"\\n\",\n",
    "     \"moyenne NDCG =\",nm8,\" /  ecart-type NDCG = \",ne8,\"\\n\",)"
   ]
  },
  {
   "cell_type": "code",
   "execution_count": 47,
   "metadata": {},
   "outputs": [],
   "source": [
    "w5=tme2.Weighter5(\"cacm/cacm.txt\")\n",
    "V9=tme2.Vectoriel(w5,False)"
   ]
  },
  {
   "cell_type": "code",
   "execution_count": 48,
   "metadata": {},
   "outputs": [
    {
     "name": "stderr",
     "output_type": "stream",
     "text": [
      "C:\\ProgramData\\Anaconda3\\lib\\site-packages\\ipykernel_launcher.py:46: RuntimeWarning: invalid value encountered in double_scalars\n"
     ]
    }
   ],
   "source": [
    "# pour chaque mesure utilisé ,  on récupère la  moyenne et l'ecart-type de l'ensemble des résultats obtenue\n",
    "# pour cette mesure sur la collection cacm , en ayant utilisé le modèle V9\n",
    "\n",
    "pm9,pe9=E.evalPrecision(V9,A)\n",
    "rm9,re9=E.evalRappel(V9,A)\n",
    "mm9,me9=E.evalAvgP(V9,A)\n",
    "mam9,mae9=E.evalMAP(V9,A)\n",
    "fm9,fe9=E.evalFMesure(V9,A,1)\n",
    "nm9,ne9=E.evalNDCG(V9,A)"
   ]
  },
  {
   "cell_type": "code",
   "execution_count": 49,
   "metadata": {},
   "outputs": [
    {
     "name": "stdout",
     "output_type": "stream",
     "text": [
      "Pour le Modèle Vectoriel  utilisant weighter5 et le produit vectoriel (calculé à partir de la colleciton cacm)  on obtient: \n",
      "\n",
      " moyenne de la précision = 0.005677354625449063  /  ecart-type de la précison =  0.0056687163934020495 \n",
      " moyenne du rappel = 0.6095061519317104  /  ecart-type du rappel =  0.3557461634407892 \n",
      " moyenne Avgp = 0.04627795168695898  /  ecart-type AvgP =  0.10514279907545568 \n",
      " moyenne MAP = 0.04627795168695898  /  ecart-type MAP =  0.0 \n",
      " moyenne FMesure = 0.011180934814213183  /  ecart-type FMesure =  0.011062870464342874 \n",
      " moyenne NDCG = nan  /  ecart-type NDCG =  nan \n",
      "\n"
     ]
    }
   ],
   "source": [
    "print(\"Pour le Modèle Vectoriel  utilisant weighter5 et le produit vectoriel (calculé à partir de la colleciton cacm)\",\n",
    "      \" on obtient: \\n\\n\",\n",
    "     \"moyenne de la précision =\",pm9,\" /  ecart-type de la précison = \",pe9,\"\\n\",\n",
    "     \"moyenne du rappel =\",rm9,\" /  ecart-type du rappel = \",re9,\"\\n\",\n",
    "     \"moyenne Avgp =\",mm9,\" /  ecart-type AvgP = \",me9,\"\\n\",\n",
    "     \"moyenne MAP =\",mam9,\" /  ecart-type MAP = \",mae9,\"\\n\",\n",
    "     \"moyenne FMesure =\",fm9,\" /  ecart-type FMesure = \",fe9,\"\\n\",\n",
    "     \"moyenne NDCG =\",nm9,\" /  ecart-type NDCG = \",ne9,\"\\n\",)"
   ]
  },
  {
   "cell_type": "code",
   "execution_count": 50,
   "metadata": {},
   "outputs": [],
   "source": [
    "V10=tme2.Vectoriel(w5,True)"
   ]
  },
  {
   "cell_type": "code",
   "execution_count": 51,
   "metadata": {},
   "outputs": [
    {
     "name": "stderr",
     "output_type": "stream",
     "text": [
      "C:\\ProgramData\\Anaconda3\\lib\\site-packages\\ipykernel_launcher.py:46: RuntimeWarning: invalid value encountered in double_scalars\n"
     ]
    }
   ],
   "source": [
    "# pour chaque mesure utilisé ,  on récupère la  moyenne et l'ecart-type de l'ensemble des résultats obtenue\n",
    "# pour cette mesure sur la collection cacm , en ayant utilisé le modèle V10\n",
    "\n",
    "pm10,pe10=E.evalPrecision(V10,A)\n",
    "rm10,re10=E.evalRappel(V10,A)\n",
    "mm10,me10=E.evalAvgP(V10,A)\n",
    "mam10,mae10=E.evalMAP(V10,A)\n",
    "fm10,fe10=E.evalFMesure(V10,A,1)\n",
    "nm10,ne10=E.evalNDCG(V10,A)"
   ]
  },
  {
   "cell_type": "code",
   "execution_count": 52,
   "metadata": {},
   "outputs": [
    {
     "name": "stdout",
     "output_type": "stream",
     "text": [
      "Pour le Modèle Vectoriel  utilisant weighter5 et le score cosinus (calculé à partir de la colleciton cacm)  on obtient: \n",
      "\n",
      " moyenne de la précision = 0.005677354625449063  /  ecart-type de la précison =  0.0056687163934020495 \n",
      " moyenne du rappel = 0.6095061519317104  /  ecart-type du rappel =  0.3557461634407892 \n",
      " moyenne Avgp = 0.14674603878344433  /  ecart-type AvgP =  0.19673278247124534 \n",
      " moyenne MAP = 0.14674603878344433  /  ecart-type MAP =  0.0 \n",
      " moyenne FMesure = 0.011180934814213183  /  ecart-type FMesure =  0.011062870464342874 \n",
      " moyenne NDCG = nan  /  ecart-type NDCG =  nan \n",
      "\n"
     ]
    }
   ],
   "source": [
    "print(\"Pour le Modèle Vectoriel  utilisant weighter5 et le score cosinus (calculé à partir de la colleciton cacm)\",\n",
    "      \" on obtient: \\n\\n\",\n",
    "     \"moyenne de la précision =\",pm10,\" /  ecart-type de la précison = \",pe10,\"\\n\",\n",
    "     \"moyenne du rappel =\",rm10,\" /  ecart-type du rappel = \",re10,\"\\n\",\n",
    "     \"moyenne Avgp =\",mm10,\" /  ecart-type AvgP = \",me10,\"\\n\",\n",
    "     \"moyenne MAP =\",mam10,\" /  ecart-type MAP = \",mae10,\"\\n\",\n",
    "     \"moyenne FMesure =\",fm10,\" /  ecart-type FMesure = \",fe10,\"\\n\",\n",
    "     \"moyenne NDCG =\",nm10,\" /  ecart-type NDCG = \",ne10,\"\\n\",)"
   ]
  },
  {
   "cell_type": "markdown",
   "metadata": {},
   "source": [
    "# Observation : Le meilleur Modele Vectoriel"
   ]
  },
  {
   "cell_type": "markdown",
   "metadata": {},
   "source": [
    "Pour chaque mesure, on détermine le meilleur modèle vectoriel:\n",
    "\n",
    "Ils ont tous la même moyenne de précision et de rappel et moyenneFmesure.\n",
    "V8 a la meilleur moyenne Avgp et MAP.\n"
   ]
  },
  {
   "cell_type": "markdown",
   "metadata": {},
   "source": [
    "REMARQUE :\n",
    "Pour le modèle de langue et okapi BM20 le weighter utilisé n'a pas d'importance"
   ]
  },
  {
   "cell_type": "code",
   "execution_count": 24,
   "metadata": {},
   "outputs": [],
   "source": [
    "M=tme2.ModeleLangue(w1,0.2)  # 0.2 pour les requêtes longues , faudrait pour chaque requete créer un nouveau modèle en fonction \n",
    "# de la taille de la requête pour que le modèle soit plus efficace\n",
    "\n",
    "pmM,peM=E.evalPrecision(M,A)\n",
    "rmM,reM=E.evalRappel(M,A)\n",
    "mmM,meM=E.evalAvgP(M,A)\n",
    "mamM,maeM=E.evalMAP(M,A)\n",
    "fmM,feM=E.evalFMesure(M,A,1)\n",
    "nmM,neM=E.evalNDCG(M,A)"
   ]
  },
  {
   "cell_type": "code",
   "execution_count": 26,
   "metadata": {},
   "outputs": [
    {
     "name": "stdout",
     "output_type": "stream",
     "text": [
      "Pour le Modèle de Langue  (calculé à partir de la colleciton cacm)  on obtient: \n",
      "\n",
      " moyenne de la précision = 0.002237984772781347  /  ecart-type de la précison =  0.0026309036083278095 \n",
      " moyenne du rappel = 0.5645349645244275  /  ecart-type du rappel =  0.47203663080419095 \n",
      " moyenne Avgp = 0.0996342765463527  /  ecart-type AvgP =  0.1265280869164075 \n",
      " moyenne MAP = 0.0996342765463527  /  ecart-type MAP =  0.0 \n",
      " moyenne FMesure = 0.0044502276503530355  /  ecart-type FMesure =  0.005217890066502017 \n",
      " moyenne NDCG = 0.29459129842409626  /  ecart-type NDCG =  0.2724403620004733 \n",
      "\n"
     ]
    }
   ],
   "source": [
    "print(\"Pour le Modèle de Langue  (calculé à partir de la colleciton cacm)\",\n",
    "      \" on obtient: \\n\\n\",\n",
    "     \"moyenne de la précision =\",pmM,\" /  ecart-type de la précison = \",peM,\"\\n\",\n",
    "     \"moyenne du rappel =\",rmM,\" /  ecart-type du rappel = \",reM,\"\\n\",\n",
    "     \"moyenne Avgp =\",mmM,\" /  ecart-type AvgP = \",meM,\"\\n\",\n",
    "     \"moyenne MAP =\",mamM,\" /  ecart-type MAP = \",maeM,\"\\n\",\n",
    "     \"moyenne FMesure =\",fmM,\" /  ecart-type FMesure = \",feM,\"\\n\",\n",
    "     \"moyenne NDCG =\",nmM,\" /  ecart-type NDCG = \",neM,\"\\n\",)"
   ]
  },
  {
   "cell_type": "code",
   "execution_count": 19,
   "metadata": {},
   "outputs": [],
   "source": [
    "O=tme2.Okapi(w1,1.2,0.75) "
   ]
  },
  {
   "cell_type": "code",
   "execution_count": 19,
   "metadata": {},
   "outputs": [],
   "source": [
    "O=tme2.Okapi(w1,1.2,0.75) \n",
    "\n",
    "pmO,peO=E.evalPrecision(O,A)\n",
    "rmO,reO=E.evalRappel(O,A)\n",
    "mmO,meO=E.evalAvgP(O,A)\n",
    "mamO,maeO=E.evalMAP(O,A)\n",
    "fmO,feO=E.evalFMesure(O,A,1)\n",
    "nmO,neO=E.evalNDCG(O,A)"
   ]
  },
  {
   "cell_type": "code",
   "execution_count": 21,
   "metadata": {},
   "outputs": [
    {
     "name": "stdout",
     "output_type": "stream",
     "text": [
      "Pour le Modèle OKAPI  (calculé à partir de la colleciton cacm)  on obtient: \n",
      "\n",
      " moyenne de la précision = 0.011429677490711665  /  ecart-type de la précison =  0.03704659219306671 \n",
      " moyenne du rappel = 0.13994522337782261  /  ecart-type du rappel =  0.20496973289488218 \n",
      " moyenne Avgp = 0.011381507661071225  /  ecart-type AvgP =  0.030737024149828616 \n",
      " moyenne MAP = 0.011381507661071225  /  ecart-type MAP =  0.0 \n",
      " moyenne FMesure = 0.01623270907468194  /  ecart-type FMesure =  0.04515349616194069 \n",
      " moyenne NDCG = 0.14118124810707222  /  ecart-type NDCG =  0.19971529980892275 \n",
      "\n"
     ]
    }
   ],
   "source": [
    "print(\"Pour le Modèle OKAPI  (calculé à partir de la colleciton cacm)\",\n",
    "      \" on obtient: \\n\\n\",\n",
    "     \"moyenne de la précision =\",pmO,\" /  ecart-type de la précison = \",peO,\"\\n\",\n",
    "     \"moyenne du rappel =\",rmO,\" /  ecart-type du rappel = \",reO,\"\\n\",\n",
    "     \"moyenne Avgp =\",mmO,\" /  ecart-type AvgP = \",meO,\"\\n\",\n",
    "     \"moyenne MAP =\",mamO,\" /  ecart-type MAP = \",maeO,\"\\n\",\n",
    "     \"moyenne FMesure =\",fmO,\" /  ecart-type FMesure = \",feO,\"\\n\",\n",
    "     \"moyenne NDCG =\",nmO,\" /  ecart-type NDCG = \",neO,\"\\n\",)"
   ]
  },
  {
   "cell_type": "markdown",
   "metadata": {},
   "source": [
    "# 4 Bonus - 2.6 et 2.7 très fortement conseill´es\n"
   ]
  },
  {
   "cell_type": "markdown",
   "metadata": {},
   "source": [
    "Q 2.6 Compléter la classe EvalIRModel pour permettre de calculer des tests de signiﬁcativité entre deux modèles (t-test) pour tester si deux modèles sont signiﬁcativement diﬀérents."
   ]
  },
  {
   "cell_type": "markdown",
   "metadata": {},
   "source": [
    "# Comparaison des systèmes de RI"
   ]
  },
  {
   "cell_type": "markdown",
   "metadata": {},
   "source": [
    "# T-test"
   ]
  },
  {
   "cell_type": "markdown",
   "metadata": {},
   "source": [
    "Le test-t de Student est un test statistique permettant de comparer les moyennes de deux groupes d’échantillons. Il s’agit donc de savoir si les moyennes des deux groupes sont significativement différentes au point de vue statistique."
   ]
  },
  {
   "cell_type": "markdown",
   "metadata": {},
   "source": [
    "Dans notre cas de figure, il s’agit de comparer deux moyennes observées. Lorsque les deux groupes d’échantillons (X et Y) à comparer n’ont aucun lien, on utilise le test t de Student indépendant (ou non apparié)."
   ]
  },
  {
   "cell_type": "markdown",
   "metadata": {},
   "source": [
    "On a deux modèle A et B, pour chacun de ces deux modèles , on calcule la mesure  sur les 64 requêtes de la collection cacm.\n",
    "On se pose la question à savoir si la mesure moyenne du modèle A  est significativement différente de celle du modèle B ?\n",
    "Dans cet exemple on parle de test de Student non apparié car les deux groupes à comparer n’ont aucun lien. Il s’agit donc de calculer la mesure moyenne du modèle A et de celle du modèle B et d’évaluer si la différence est significative au point de vue statistique.\n",
    "\n",
    "Le modèle A est le modèle Vectoriel appelé V8 ici , et le modèle B est le modèle Okapi appellé O ici."
   ]
  },
  {
   "cell_type": "markdown",
   "metadata": {},
   "source": [
    "Formule:\n",
    "\n",
    "- Soit X et Y deux groupes différents à comparer.\n",
    "- Soit mX et mY la moyenne du groupe X et celui du groupe Y, respectivement.\n",
    "- Soit n la taille du groupe X et celle du groupe Y.\n",
    "\n",
    "La valeur t de Student est donnée par la formule suivante: \n",
    "\n",
    " - t=(mx-my)/racine(S au carré/n)\n",
    " \n",
    "S au carré  est la variance commune aux deux groupes. Elle est calculée par la formule suivante :\n",
    "\n",
    " - S au carré= ( (somme (x-mx)^2 ) + (somme (x-my)^2 ) ) / (n+n-2)"
   ]
  },
  {
   "cell_type": "markdown",
   "metadata": {},
   "source": [
    "Exemple T -Test:\n",
    "\n",
    "Hypothèse  Null : la moyenne de la distribution de ces différences est zéro"
   ]
  },
  {
   "cell_type": "code",
   "execution_count": 24,
   "metadata": {},
   "outputs": [],
   "source": [
    "V8=tme2.Vectoriel(w4,True)\n",
    "O=tme2.Okapi(w1,1.2,0.75) "
   ]
  },
  {
   "cell_type": "code",
   "execution_count": 23,
   "metadata": {},
   "outputs": [],
   "source": [
    "X=[]\n",
    "for query in A:\n",
    "    texte=query.getText()\n",
    "    scores=V8.getRanking(texte)\n",
    "    s=Remove0(scores)\n",
    "    N=Precision(len(s))\n",
    "    n=N.evalQuery(s,query)\n",
    "    X.append(n)"
   ]
  },
  {
   "cell_type": "code",
   "execution_count": 24,
   "metadata": {},
   "outputs": [],
   "source": [
    "Y=[]\n",
    "for query in A:\n",
    "    texte=query.getText()\n",
    "    scores=O.getRanking(texte)\n",
    "    s=Remove0(scores)\n",
    "    N=Precision(len(s))\n",
    "    n=N.evalQuery(s,query)\n",
    "    Y.append(n)"
   ]
  },
  {
   "cell_type": "code",
   "execution_count": 25,
   "metadata": {},
   "outputs": [],
   "source": [
    "mx,my=np.mean(X),np.mean(Y)\n",
    "Vxy= ( sum( pow(X[i]-mx,2) for i in range(0,len(X)) ) + sum( pow(Y[i]-my,2) for i in range(0,len(Y)) ) ) / (len(X)+len(Y)-2)"
   ]
  },
  {
   "cell_type": "code",
   "execution_count": 26,
   "metadata": {},
   "outputs": [],
   "source": [
    "tcalc=(mx-my)/math.sqrt(Vxy/len(A)) # len(A)=len(X)=len(Y)=64=nombre de requetes évalués"
   ]
  },
  {
   "cell_type": "code",
   "execution_count": 27,
   "metadata": {},
   "outputs": [
    {
     "name": "stdout",
     "output_type": "stream",
     "text": [
      "La valeur t de Student =  -1.7228783586220955\n"
     ]
    }
   ],
   "source": [
    "print(\"La valeur t de Student = \",tcalc)"
   ]
  },
  {
   "cell_type": "markdown",
   "metadata": {},
   "source": [
    "Pour savoir si la différence est significative, il faut tout d’abord lire dans la table t, la valeur critique correspondant au risque alpha = 5% pour un degré de liberté : ddl=len(X)+len(Y)-2"
   ]
  },
  {
   "cell_type": "markdown",
   "metadata": {},
   "source": [
    "Si la valeur absolue de t (|t|) est supérieure à la valeur critique, alors la différence est significative (on dit que H0 est rejeté au risque alpha de se tromper) . Dans le cas contraire, elle, ne l’est pas. Le degré de siginificativité ou p-value correspond au risque indiqué par la table de Student pour la valeur |t|"
   ]
  },
  {
   "cell_type": "markdown",
   "metadata": {},
   "source": [
    "La fonction student(x, df) calcule la densité de probabilité de la loi de student avec df=nombre de degrés de liberté. Elle est assez facile à calculer grâce à la fonction gamma qui fait partie du module math.\n",
    "\n",
    "La fonction qstudent(df, alpha) calcule la valeur de x pour que la surface (=la probabilité) entre -x et +x soit égale à 1-alpha. Avec df=nombre de degrés de liberté."
   ]
  },
  {
   "cell_type": "code",
   "execution_count": 32,
   "metadata": {},
   "outputs": [
    {
     "name": "stdout",
     "output_type": "stream",
     "text": [
      "t: 1.979\n"
     ]
    }
   ],
   "source": [
    "def student(x, df):\n",
    "    \"\"\"densité de probabilité de la loi de student\"\"\"   \n",
    "    r = gamma((df+1)/2)/(sqrt(pi*df)*gamma(df/2))*(1+x*x/df)**(-(df+1)/2)\n",
    "    return r\n",
    "     \n",
    "def qstudent(df, alpha):\n",
    "    \"\"\"valeur du quantile en fonction de alpha bilatéral et df=deg. de lib.\"\"\"\n",
    "    x = 0\n",
    "    dx = 6/10000\n",
    "    s = 0\n",
    "    while 1-2*s>alpha:\n",
    "        x += dx\n",
    "        s += dx*student(x-dx/2, df)\n",
    "    return x    \n",
    " \n",
    "df = len(X)+len(Y)-2\n",
    "t=round(qstudent(df,0.05),3)\n",
    "print(\"t:\",t)"
   ]
  },
  {
   "cell_type": "code",
   "execution_count": 35,
   "metadata": {},
   "outputs": [
    {
     "name": "stderr",
     "output_type": "stream",
     "text": [
      "C:\\ProgramData\\Anaconda3\\lib\\site-packages\\scipy\\stats\\stats.py:1713: FutureWarning: Using a non-tuple sequence for multidimensional indexing is deprecated; use `arr[tuple(seq)]` instead of `arr[seq]`. In the future this will be interpreted as an array index, `arr[np.array(seq)]`, which will result either in an error or a different result.\n",
      "  return np.add.reduce(sorted[indexer] * weights, axis=axis) / sumval\n"
     ]
    },
    {
     "data": {
      "text/plain": [
       "<matplotlib.axes._subplots.AxesSubplot at 0x2370fa84f60>"
      ]
     },
     "execution_count": 35,
     "metadata": {},
     "output_type": "execute_result"
    },
    {
     "data": {
      "image/png": "[encoded data removed]",
      "text/plain": [
       "<Figure size 432x288 with 1 Axes>"
      ]
     },
     "metadata": {
      "needs_background": "light"
     },
     "output_type": "display_data"
    }
   ],
   "source": [
    "sns.distplot(X, hist=True, kde=True, \n",
    "             bins=20, color = 'blue',\n",
    "             hist_kws={'edgecolor':'blue'})"
   ]
  },
  {
   "cell_type": "code",
   "execution_count": 36,
   "metadata": {},
   "outputs": [
    {
     "data": {
      "text/plain": [
       "<matplotlib.axes._subplots.AxesSubplot at 0x2370fe6bcf8>"
      ]
     },
     "execution_count": 36,
     "metadata": {},
     "output_type": "execute_result"
    },
    {
     "data": {
      "image/png": "[encoded data removed]",
      "text/plain": [
       "<Figure size 432x288 with 1 Axes>"
      ]
     },
     "metadata": {
      "needs_background": "light"
     },
     "output_type": "display_data"
    }
   ],
   "source": [
    "sns.distplot(Y, hist=True, kde=True, \n",
    "             bins=20, color = 'blue',\n",
    "             hist_kws={'edgecolor':'blue'})"
   ]
  },
  {
   "cell_type": "markdown",
   "metadata": {},
   "source": [
    "Remarque:\n",
    "\n",
    "ICI Le test n'est pas utilisable, car  X et Y ne suivent pas  des lois normales de même variances"
   ]
  },
  {
   "cell_type": "markdown",
   "metadata": {},
   "source": [
    "On récapitule toute ces étapes dans une fonction t_test "
   ]
  },
  {
   "cell_type": "markdown",
   "metadata": {},
   "source": [
    "Avant d'appliquer ce test , il faut vérifier que les deux échantillions X et Y ont la même variance , et suivent tous les deux une loi normale."
   ]
  },
  {
   "cell_type": "code",
   "execution_count": 53,
   "metadata": {},
   "outputs": [
    {
     "name": "stdout",
     "output_type": "stream",
     "text": [
      "H0 est accepté à  5.0  %\n"
     ]
    }
   ],
   "source": [
    "E.t_test(X,Y,A)"
   ]
  },
  {
   "cell_type": "markdown",
   "metadata": {},
   "source": [
    "# Explication"
   ]
  },
  {
   "cell_type": "markdown",
   "metadata": {},
   "source": [
    "Test de “significativité” permet de :\n",
    " -  Rejeter l’hypothèse nulle (pas de différence entre modeleA et modeleB)  :H0\n",
    " -  Accepter l’hypothèse alternative (modelA et modelB sont différents)     :H1\n",
    " \n",
    "H0 est rejetée à α  si tcalc >  t(α:υ)   (Degré de liberté (v=N-1)  N=taille de l’échantillon)  à lire dans la table de la loi de student )\n",
    "\n",
    "Dire qu’une différence est significative à :  x  si p-value < x/100\n",
    " - Valeurs de x considérées \n",
    " - 0.05 (ou 5%) signifie : il y a 95% de chances que la différence ne soit pas due au hasard "
   ]
  },
  {
   "cell_type": "markdown",
   "metadata": {},
   "source": [
    "En statistiques, le résultat d'études qui portent sur des échantillons de population est dit statistiquement significatif lorsqu'il semble exprimer de façon fiable un fait auquel on s'intéresse, par exemple la différence entre 2 groupes ou une corrélation entre 2 données. Dit autrement, il est alors très peu probable que ce résultat apparent soit en fait trompeur s'il n'est pas dû, par exemple, à un échantillon erroné (en), trop petit ou autrement non représentatif (surtout si la population est très diverse). Cette fiabilité se traduit généralement par des valeurs, différences de valeurs, ou rapports entre valeurs, suffisamment élévées ou au contraire faibles."
   ]
  },
  {
   "cell_type": "markdown",
   "metadata": {},
   "source": [
    "Techniquement, on évalue cette fiabilité selon une méthode qui suit le raisonnement suivant : On part de l'hypothèse qu'un résultat soit vraie, ce qu'on nomme l'hypothèse nulle. Et on s'accorde une probabilité, c'est-à-dire ici un risque acceptable, de rejeter cette hypothèse nulle alors qu'elle serait en fait vraie. Ce risque d'erreur noté alpha est souvent fixé à 5%, mais parfois à des valeurs bien plus faibles selon les domaines. Enfin, on calcule ce risque-là sur cette étude en particulier (dit valeur p ou p valeur, de l'anglais p-value), et on dira que l'étude est statistiquement significative si p < α."
   ]
  },
  {
   "cell_type": "markdown",
   "metadata": {},
   "source": [
    "Test bilatéral:\n",
    "\n",
    "Un test bilatéral est associé à une  d’hypothèse alternative selon laquelle le signe de la différence potentielle est inconnu. Par exemple, nous cherchons à comparer les moyennes de deux échantillons X et Y. Avant de mettre en place l’expérimentation et de lancer le test, nous ne savons pas avec certitude si X serait supérieur à Y ou le contraire dans la situation où une différence entre X et Y serait mise en relief par le test. Ceci nous conduit à opter pour un test bilatéral, associé à l’hypothèse alternative suivante : moyenne(X) ≠ moyenne(Y). "
   ]
  },
  {
   "cell_type": "markdown",
   "metadata": {},
   "source": [
    "Dans le cas du test t de Student pour la comparaison de deux échantillons, la statistique calculée est la statistique t. Une statistique t calculée se situant à droite du centre de la distribution reflète une différence positive entre les deux moyennes. A l’inverse, une statistique t se trouvant à gauche du centre de la distribution est le résultat d’une différence négative entre les deux moyennes.\n",
    "Avant la collecte des données, nous ignorons souvent le signe de la différence potentielle entre les deux moyennes. En d’autres termes, nous ne savons pas si la statistique t se trouvera sur le côté gauche ou le côté droit de la courbe sous l’hypothèse alternative. Ici, une hypothèse alternative bilatérale est appropriée."
   ]
  },
  {
   "cell_type": "markdown",
   "metadata": {},
   "source": [
    "# Q 2.7 Poursuivre l’optimisation des paramètres du TME 2 en considérant comme critère à optimiser la valeur de MAP."
   ]
  },
  {
   "cell_type": "markdown",
   "metadata": {},
   "source": [
    "On sépare l’ensemble des requêtes en deux ensembles (train/test) et on déﬁnit une recherche de valeur optimale par GridSearch. 1) déﬁnir une grille de valeurs à tester (e.g., de 0 à 1 par pas de 0.1). 2) expérimenter chaque combinaison possible pour chaque modèle sur le jeu de donn´ees train. 3) on pourra tester la combinaison qui obtient la meilleure valeur de métrique (MAP, Pr´ecision, ...), 4) on applique ces valeurs sur le jeu de test"
   ]
  },
  {
   "cell_type": "code",
   "execution_count": 60,
   "metadata": {},
   "outputs": [],
   "source": [
    "train=A[:int(len(A)/2)-1]\n",
    "test=A[int(len(A)/2):]"
   ]
  },
  {
   "cell_type": "code",
   "execution_count": 66,
   "metadata": {},
   "outputs": [],
   "source": [
    "G={}\n",
    "M=MAP()  \n",
    "resultats={}\n",
    "for k in np.arange(0,1.1,0.1):\n",
    "    for b in np.arange(0,1.1,0.1):\n",
    "        Mo=tme2.Okapi(w1,k,b)\n",
    "        d={}\n",
    "        m=M.evalQuery(Mo,train)\n",
    "        resultats[(k,b)]=m"
   ]
  },
  {
   "cell_type": "code",
   "execution_count": 68,
   "metadata": {},
   "outputs": [
    {
     "name": "stdout",
     "output_type": "stream",
     "text": [
      "les meilleurs paramètres à utiliser sont pour le modèle okapi sont : (0.1, 0.9)\n"
     ]
    }
   ],
   "source": [
    "maxi = None\n",
    "param=None\n",
    "for k in resultats:\n",
    "    if maxi is None or resultats[k] > maxi:\n",
    "        maxi = resultats[k]\n",
    "        param=k\n",
    "        \n",
    "print(\"les meilleurs paramètres à utiliser sont pour le modèle okapi sont :\",param)"
   ]
  },
  {
   "cell_type": "code",
   "execution_count": 69,
   "metadata": {},
   "outputs": [
    {
     "name": "stdout",
     "output_type": "stream",
     "text": [
      "Map= 0.007336582664107241\n"
     ]
    }
   ],
   "source": [
    "O=tme2.Okapi(w1,0.1,0.9)\n",
    "m=M.evalQuery(O,test)\n",
    "print(\"Map=\",m)"
   ]
  }
 ],
 "metadata": {
  "kernelspec": {
   "display_name": "Python 3",
   "language": "python",
   "name": "python3"
  },
  "language_info": {
   "codemirror_mode": {
    "name": "ipython",
    "version": 3
   },
   "file_extension": ".py",
   "mimetype": "text/x-python",
   "name": "python",
   "nbconvert_exporter": "python",
   "pygments_lexer": "ipython3",
   "version": "3.7.1"
  }
 },
 "nbformat": 4,
 "nbformat_minor": 2
}
